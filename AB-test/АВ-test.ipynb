{
 "cells": [
  {
   "cell_type": "markdown",
   "metadata": {},
   "source": [
    "# Исследование гипотез и проведение A/B-теста для интернет-магазина"
   ]
  },
  {
   "cell_type": "markdown",
   "metadata": {},
   "source": [
    "**Цель проекта**: выявить и проанализировать наилучшую гипотезу для увеличения выручки в интернет-магазине.\n",
    "\n",
    "Задачи исследования:\n",
    "\n",
    "* приоритизация гипотез;\n",
    "* проведение A/B-теста и изучение его результатов:\n",
    "    * подготовка данных для анализа;\n",
    "    * оценка кумулятивных метрик;\n",
    "    * анализ выбросов;\n",
    "    * проверка статистической значимости различий метрик.\n",
    "    \n",
    "Для исследования были предоставлены данные с итогами проведения анализа гипотез и результатами A/B-тестирования.\n",
    "\n",
    "Сначала приоритизируем гипотезы с помощью фреймворков `ICE` и `RICE` и выберем гипотезу для тестирования. Затем проведем A/B-тест, результаты которого проанализируем, и примем решение об остановке теста или его продолжении."
   ]
  },
  {
   "cell_type": "markdown",
   "metadata": {},
   "source": [
    "## Приоритизация гипотез"
   ]
  },
  {
   "cell_type": "markdown",
   "metadata": {},
   "source": [
    "Перед началом работы импортируем необходимые библиотеки и компоненты."
   ]
  },
  {
   "cell_type": "code",
   "execution_count": 1,
   "metadata": {},
   "outputs": [],
   "source": [
    "import pandas as pd\n",
    "import numpy as np\n",
    "import scipy.stats as stats\n",
    "import datetime as dt\n",
    "from matplotlib import pyplot as plt\n",
    "from pandas.plotting import register_matplotlib_converters\n",
    "register_matplotlib_converters()"
   ]
  },
  {
   "cell_type": "markdown",
   "metadata": {},
   "source": [
    "Рассмотрим файл с гипотезами, для этого сохраним его в переменной `hypothesis` и выведим основную информацию по датасету."
   ]
  },
  {
   "cell_type": "code",
   "execution_count": 2,
   "metadata": {},
   "outputs": [
    {
     "data": {
      "text/html": [
       "<div>\n",
       "<style scoped>\n",
       "    .dataframe tbody tr th:only-of-type {\n",
       "        vertical-align: middle;\n",
       "    }\n",
       "\n",
       "    .dataframe tbody tr th {\n",
       "        vertical-align: top;\n",
       "    }\n",
       "\n",
       "    .dataframe thead th {\n",
       "        text-align: right;\n",
       "    }\n",
       "</style>\n",
       "<table border=\"1\" class=\"dataframe\">\n",
       "  <thead>\n",
       "    <tr style=\"text-align: right;\">\n",
       "      <th></th>\n",
       "      <th>Hypothesis</th>\n",
       "      <th>Reach</th>\n",
       "      <th>Impact</th>\n",
       "      <th>Confidence</th>\n",
       "      <th>Efforts</th>\n",
       "    </tr>\n",
       "  </thead>\n",
       "  <tbody>\n",
       "    <tr>\n",
       "      <td>0</td>\n",
       "      <td>Добавить два новых канала привлечения трафика, что позволит привлекать на 30% больше пользователей</td>\n",
       "      <td>3</td>\n",
       "      <td>10</td>\n",
       "      <td>8</td>\n",
       "      <td>6</td>\n",
       "    </tr>\n",
       "    <tr>\n",
       "      <td>1</td>\n",
       "      <td>Запустить собственную службу доставки, что сократит срок доставки заказов</td>\n",
       "      <td>2</td>\n",
       "      <td>5</td>\n",
       "      <td>4</td>\n",
       "      <td>10</td>\n",
       "    </tr>\n",
       "    <tr>\n",
       "      <td>2</td>\n",
       "      <td>Добавить блоки рекомендаций товаров на сайт интернет магазина, чтобы повысить конверсию и средний чек заказа</td>\n",
       "      <td>8</td>\n",
       "      <td>3</td>\n",
       "      <td>7</td>\n",
       "      <td>3</td>\n",
       "    </tr>\n",
       "    <tr>\n",
       "      <td>3</td>\n",
       "      <td>Изменить структура категорий, что увеличит конверсию, т.к. пользователи быстрее найдут нужный товар</td>\n",
       "      <td>8</td>\n",
       "      <td>3</td>\n",
       "      <td>3</td>\n",
       "      <td>8</td>\n",
       "    </tr>\n",
       "    <tr>\n",
       "      <td>4</td>\n",
       "      <td>Изменить цвет фона главной страницы, чтобы увеличить вовлеченность пользователей</td>\n",
       "      <td>3</td>\n",
       "      <td>1</td>\n",
       "      <td>1</td>\n",
       "      <td>1</td>\n",
       "    </tr>\n",
       "    <tr>\n",
       "      <td>5</td>\n",
       "      <td>Добавить страницу отзывов клиентов о магазине, что позволит увеличить количество заказов</td>\n",
       "      <td>3</td>\n",
       "      <td>2</td>\n",
       "      <td>2</td>\n",
       "      <td>3</td>\n",
       "    </tr>\n",
       "    <tr>\n",
       "      <td>6</td>\n",
       "      <td>Показать на главной странице баннеры с актуальными акциями и распродажами, чтобы увеличить конверсию</td>\n",
       "      <td>5</td>\n",
       "      <td>3</td>\n",
       "      <td>8</td>\n",
       "      <td>3</td>\n",
       "    </tr>\n",
       "    <tr>\n",
       "      <td>7</td>\n",
       "      <td>Добавить форму подписки на все основные страницы, чтобы собрать базу клиентов для email-рассылок</td>\n",
       "      <td>10</td>\n",
       "      <td>7</td>\n",
       "      <td>8</td>\n",
       "      <td>5</td>\n",
       "    </tr>\n",
       "    <tr>\n",
       "      <td>8</td>\n",
       "      <td>Запустить акцию, дающую скидку на товар в день рождения</td>\n",
       "      <td>1</td>\n",
       "      <td>9</td>\n",
       "      <td>9</td>\n",
       "      <td>5</td>\n",
       "    </tr>\n",
       "  </tbody>\n",
       "</table>\n",
       "</div>"
      ],
      "text/plain": [
       "                                                                                                     Hypothesis  \\\n",
       "0  Добавить два новых канала привлечения трафика, что позволит привлекать на 30% больше пользователей             \n",
       "1  Запустить собственную службу доставки, что сократит срок доставки заказов                                      \n",
       "2  Добавить блоки рекомендаций товаров на сайт интернет магазина, чтобы повысить конверсию и средний чек заказа   \n",
       "3  Изменить структура категорий, что увеличит конверсию, т.к. пользователи быстрее найдут нужный товар            \n",
       "4  Изменить цвет фона главной страницы, чтобы увеличить вовлеченность пользователей                               \n",
       "5  Добавить страницу отзывов клиентов о магазине, что позволит увеличить количество заказов                       \n",
       "6  Показать на главной странице баннеры с актуальными акциями и распродажами, чтобы увеличить конверсию           \n",
       "7  Добавить форму подписки на все основные страницы, чтобы собрать базу клиентов для email-рассылок               \n",
       "8  Запустить акцию, дающую скидку на товар в день рождения                                                        \n",
       "\n",
       "   Reach  Impact  Confidence  Efforts  \n",
       "0  3      10      8           6        \n",
       "1  2      5       4           10       \n",
       "2  8      3       7           3        \n",
       "3  8      3       3           8        \n",
       "4  3      1       1           1        \n",
       "5  3      2       2           3        \n",
       "6  5      3       8           3        \n",
       "7  10     7       8           5        \n",
       "8  1      9       9           5        "
      ]
     },
     "execution_count": 2,
     "metadata": {},
     "output_type": "execute_result"
    }
   ],
   "source": [
    "hypothesis = pd.read_csv('/datasets/hypothesis.csv')\n",
    "pd.set_option('display.max_colwidth', -1)\n",
    "hypothesis"
   ]
  },
  {
   "cell_type": "code",
   "execution_count": 3,
   "metadata": {},
   "outputs": [
    {
     "name": "stdout",
     "output_type": "stream",
     "text": [
      "<class 'pandas.core.frame.DataFrame'>\n",
      "RangeIndex: 9 entries, 0 to 8\n",
      "Data columns (total 5 columns):\n",
      "Hypothesis    9 non-null object\n",
      "Reach         9 non-null int64\n",
      "Impact        9 non-null int64\n",
      "Confidence    9 non-null int64\n",
      "Efforts       9 non-null int64\n",
      "dtypes: int64(4), object(1)\n",
      "memory usage: 488.0+ bytes\n"
     ]
    }
   ],
   "source": [
    "hypothesis.info()"
   ]
  },
  {
   "cell_type": "markdown",
   "metadata": {},
   "source": [
    "Все столбцы в таблице с нужными типами данных. Датафрейм содержит следующую информацию:\n",
    "\n",
    "* Hypothesis — краткое описание гипотезы;\n",
    "* Reach — охват пользователей по 10-балльной шкале;\n",
    "* Impact — влияние на пользователей по 10-балльной шкале;\n",
    "* Confidence — уверенность в гипотезе по 10-балльной шкале;\n",
    "* Efforts — затраты ресурсов на проверку гипотезы по 10-балльной шкале."
   ]
  },
  {
   "cell_type": "markdown",
   "metadata": {},
   "source": [
    "Применим фреймворк `ICE` для приоритезации гипотез. В него входят параметры: `Impact`, `Confidence` и `Efforts`. Затем выведим отсортированную по убыванию таблицу с кратким описанием гипотезы и значением `ICE`."
   ]
  },
  {
   "cell_type": "code",
   "execution_count": 4,
   "metadata": {},
   "outputs": [
    {
     "data": {
      "text/html": [
       "<div>\n",
       "<style scoped>\n",
       "    .dataframe tbody tr th:only-of-type {\n",
       "        vertical-align: middle;\n",
       "    }\n",
       "\n",
       "    .dataframe tbody tr th {\n",
       "        vertical-align: top;\n",
       "    }\n",
       "\n",
       "    .dataframe thead th {\n",
       "        text-align: right;\n",
       "    }\n",
       "</style>\n",
       "<table border=\"1\" class=\"dataframe\">\n",
       "  <thead>\n",
       "    <tr style=\"text-align: right;\">\n",
       "      <th></th>\n",
       "      <th>Hypothesis</th>\n",
       "      <th>ICE</th>\n",
       "    </tr>\n",
       "  </thead>\n",
       "  <tbody>\n",
       "    <tr>\n",
       "      <td>8</td>\n",
       "      <td>Запустить акцию, дающую скидку на товар в день рождения</td>\n",
       "      <td>16.20</td>\n",
       "    </tr>\n",
       "    <tr>\n",
       "      <td>0</td>\n",
       "      <td>Добавить два новых канала привлечения трафика, что позволит привлекать на 30% больше пользователей</td>\n",
       "      <td>13.33</td>\n",
       "    </tr>\n",
       "    <tr>\n",
       "      <td>7</td>\n",
       "      <td>Добавить форму подписки на все основные страницы, чтобы собрать базу клиентов для email-рассылок</td>\n",
       "      <td>11.20</td>\n",
       "    </tr>\n",
       "    <tr>\n",
       "      <td>6</td>\n",
       "      <td>Показать на главной странице баннеры с актуальными акциями и распродажами, чтобы увеличить конверсию</td>\n",
       "      <td>8.00</td>\n",
       "    </tr>\n",
       "    <tr>\n",
       "      <td>2</td>\n",
       "      <td>Добавить блоки рекомендаций товаров на сайт интернет магазина, чтобы повысить конверсию и средний чек заказа</td>\n",
       "      <td>7.00</td>\n",
       "    </tr>\n",
       "    <tr>\n",
       "      <td>1</td>\n",
       "      <td>Запустить собственную службу доставки, что сократит срок доставки заказов</td>\n",
       "      <td>2.00</td>\n",
       "    </tr>\n",
       "    <tr>\n",
       "      <td>5</td>\n",
       "      <td>Добавить страницу отзывов клиентов о магазине, что позволит увеличить количество заказов</td>\n",
       "      <td>1.33</td>\n",
       "    </tr>\n",
       "    <tr>\n",
       "      <td>3</td>\n",
       "      <td>Изменить структура категорий, что увеличит конверсию, т.к. пользователи быстрее найдут нужный товар</td>\n",
       "      <td>1.12</td>\n",
       "    </tr>\n",
       "    <tr>\n",
       "      <td>4</td>\n",
       "      <td>Изменить цвет фона главной страницы, чтобы увеличить вовлеченность пользователей</td>\n",
       "      <td>1.00</td>\n",
       "    </tr>\n",
       "  </tbody>\n",
       "</table>\n",
       "</div>"
      ],
      "text/plain": [
       "                                                                                                     Hypothesis  \\\n",
       "8  Запустить акцию, дающую скидку на товар в день рождения                                                        \n",
       "0  Добавить два новых канала привлечения трафика, что позволит привлекать на 30% больше пользователей             \n",
       "7  Добавить форму подписки на все основные страницы, чтобы собрать базу клиентов для email-рассылок               \n",
       "6  Показать на главной странице баннеры с актуальными акциями и распродажами, чтобы увеличить конверсию           \n",
       "2  Добавить блоки рекомендаций товаров на сайт интернет магазина, чтобы повысить конверсию и средний чек заказа   \n",
       "1  Запустить собственную службу доставки, что сократит срок доставки заказов                                      \n",
       "5  Добавить страницу отзывов клиентов о магазине, что позволит увеличить количество заказов                       \n",
       "3  Изменить структура категорий, что увеличит конверсию, т.к. пользователи быстрее найдут нужный товар            \n",
       "4  Изменить цвет фона главной страницы, чтобы увеличить вовлеченность пользователей                               \n",
       "\n",
       "     ICE  \n",
       "8  16.20  \n",
       "0  13.33  \n",
       "7  11.20  \n",
       "6  8.00   \n",
       "2  7.00   \n",
       "1  2.00   \n",
       "5  1.33   \n",
       "3  1.12   \n",
       "4  1.00   "
      ]
     },
     "execution_count": 4,
     "metadata": {},
     "output_type": "execute_result"
    }
   ],
   "source": [
    "hypothesis['ICE'] = ((hypothesis['Impact']*hypothesis['Confidence'])/hypothesis['Efforts']).round(2)\n",
    "hypothesis[['Hypothesis', 'ICE']].sort_values(by='ICE', ascending=False)"
   ]
  },
  {
   "cell_type": "markdown",
   "metadata": {},
   "source": [
    "Получается, что самыми перспективными являются гипотезы с индексами 8, 0 и 7. Посмотрим теперь на фреймворк `RICE`. К предыдущим параметрам `ICE` добавляется еще параметр `Reach`."
   ]
  },
  {
   "cell_type": "code",
   "execution_count": 5,
   "metadata": {},
   "outputs": [
    {
     "data": {
      "text/html": [
       "<div>\n",
       "<style scoped>\n",
       "    .dataframe tbody tr th:only-of-type {\n",
       "        vertical-align: middle;\n",
       "    }\n",
       "\n",
       "    .dataframe tbody tr th {\n",
       "        vertical-align: top;\n",
       "    }\n",
       "\n",
       "    .dataframe thead th {\n",
       "        text-align: right;\n",
       "    }\n",
       "</style>\n",
       "<table border=\"1\" class=\"dataframe\">\n",
       "  <thead>\n",
       "    <tr style=\"text-align: right;\">\n",
       "      <th></th>\n",
       "      <th>Hypothesis</th>\n",
       "      <th>RICE</th>\n",
       "    </tr>\n",
       "  </thead>\n",
       "  <tbody>\n",
       "    <tr>\n",
       "      <td>7</td>\n",
       "      <td>Добавить форму подписки на все основные страницы, чтобы собрать базу клиентов для email-рассылок</td>\n",
       "      <td>112.0</td>\n",
       "    </tr>\n",
       "    <tr>\n",
       "      <td>2</td>\n",
       "      <td>Добавить блоки рекомендаций товаров на сайт интернет магазина, чтобы повысить конверсию и средний чек заказа</td>\n",
       "      <td>56.0</td>\n",
       "    </tr>\n",
       "    <tr>\n",
       "      <td>0</td>\n",
       "      <td>Добавить два новых канала привлечения трафика, что позволит привлекать на 30% больше пользователей</td>\n",
       "      <td>40.0</td>\n",
       "    </tr>\n",
       "    <tr>\n",
       "      <td>6</td>\n",
       "      <td>Показать на главной странице баннеры с актуальными акциями и распродажами, чтобы увеличить конверсию</td>\n",
       "      <td>40.0</td>\n",
       "    </tr>\n",
       "    <tr>\n",
       "      <td>8</td>\n",
       "      <td>Запустить акцию, дающую скидку на товар в день рождения</td>\n",
       "      <td>16.2</td>\n",
       "    </tr>\n",
       "    <tr>\n",
       "      <td>3</td>\n",
       "      <td>Изменить структура категорий, что увеличит конверсию, т.к. пользователи быстрее найдут нужный товар</td>\n",
       "      <td>9.0</td>\n",
       "    </tr>\n",
       "    <tr>\n",
       "      <td>1</td>\n",
       "      <td>Запустить собственную службу доставки, что сократит срок доставки заказов</td>\n",
       "      <td>4.0</td>\n",
       "    </tr>\n",
       "    <tr>\n",
       "      <td>5</td>\n",
       "      <td>Добавить страницу отзывов клиентов о магазине, что позволит увеличить количество заказов</td>\n",
       "      <td>4.0</td>\n",
       "    </tr>\n",
       "    <tr>\n",
       "      <td>4</td>\n",
       "      <td>Изменить цвет фона главной страницы, чтобы увеличить вовлеченность пользователей</td>\n",
       "      <td>3.0</td>\n",
       "    </tr>\n",
       "  </tbody>\n",
       "</table>\n",
       "</div>"
      ],
      "text/plain": [
       "                                                                                                     Hypothesis  \\\n",
       "7  Добавить форму подписки на все основные страницы, чтобы собрать базу клиентов для email-рассылок               \n",
       "2  Добавить блоки рекомендаций товаров на сайт интернет магазина, чтобы повысить конверсию и средний чек заказа   \n",
       "0  Добавить два новых канала привлечения трафика, что позволит привлекать на 30% больше пользователей             \n",
       "6  Показать на главной странице баннеры с актуальными акциями и распродажами, чтобы увеличить конверсию           \n",
       "8  Запустить акцию, дающую скидку на товар в день рождения                                                        \n",
       "3  Изменить структура категорий, что увеличит конверсию, т.к. пользователи быстрее найдут нужный товар            \n",
       "1  Запустить собственную службу доставки, что сократит срок доставки заказов                                      \n",
       "5  Добавить страницу отзывов клиентов о магазине, что позволит увеличить количество заказов                       \n",
       "4  Изменить цвет фона главной страницы, чтобы увеличить вовлеченность пользователей                               \n",
       "\n",
       "    RICE  \n",
       "7  112.0  \n",
       "2  56.0   \n",
       "0  40.0   \n",
       "6  40.0   \n",
       "8  16.2   \n",
       "3  9.0    \n",
       "1  4.0    \n",
       "5  4.0    \n",
       "4  3.0    "
      ]
     },
     "execution_count": 5,
     "metadata": {},
     "output_type": "execute_result"
    }
   ],
   "source": [
    "hypothesis['RICE'] = (hypothesis['Reach']*hypothesis['Impact']*hypothesis['Confidence'])/hypothesis['Efforts']\n",
    "hypothesis[['Hypothesis', 'RICE']].sort_values(by='RICE', ascending=False)"
   ]
  },
  {
   "cell_type": "markdown",
   "metadata": {},
   "source": [
    "При добавлении параметра `Reach` порядок расположения гипотез поменялся. Теперь это гипотезы 7, 2 и 0. Это произошло из-за того, что охват у 7 и 0 гипотез выше, чем у остальных. Это один из важных показателей, поскольку для увеличения выручки важно охватить, как можно большее число пользователей, а не конкретную узкую группу.\n",
    "\n",
    "Рассмотрим по отдельности параметры из первоначальной таблицы у всех 4 гипотез, которые входили в тройку лидеров в двух датафреймах - гипотезы 0, 2, 7 и 8.\n",
    "\n",
    "Начнем с 0 гипотезы \"Добавить два новых канала привлечения трафика, что позволит привлекать на 30% больше пользователей\". Она имеет небольшой охват по аудитории - 3 балла по 10-балльной шкале, поскольку это изменение затронет только небольшой сегмент пользователей, которые будут использовать два канала. Зато у этой гипотезы максимальное влияние на аудиторию и высокая степень уверенности (8 баллов). Однако, ее проверять довольно затратно: 6 баллов по 10-балльной шкале, что соответствует затратам выше среднего.\n",
    "\n",
    "Следующая гипотеза 2 \"Добавить блоки рекомендаций товаров на сайт интернет магазина, чтобы повысить конверсию и средний чек заказа\". У нее высокий охват аудитории (8 баллов) и высокая степень уверенности (7 баллов), при этом, низкие степень влияния и стоимость проверки по 3 балла.\n",
    "\n",
    "Гипотеза 7 \"Добавить форму подписки на все основные страницы, чтобы собрать базу клиентов для email-рассылок\" имеет максимальную оценку по охвату аудитории, т.к. изменения коснутся всех страниц, и эти изменения увидят все пользователи, также высокий показатель по степени влияния (7 баллов), высокая уверенность в оценке показателей (8 баллов) и средние затраты на проведение проверки гипотезы (5 баллов).\n",
    "\n",
    "И, наконец, гипотеза 8 \"Запустить акцию, дающую скидку на товар в день рождения\". Она имеет низкий охват аудитории, т.к. не все указывают свой день рождения в профиле и необязательно им потребуется делать заказ именно в свой день рождения. У этой гипотезы практически максимальные степени влияния и уверенности - 9 баллов. Затраты на ее проверку находятся на среднем уровне (5 баллов)."
   ]
  },
  {
   "cell_type": "markdown",
   "metadata": {},
   "source": [
    "**Вывод**\n",
    "\n",
    "Проанализировав значения двух фреймворков - `ICE` и `RICE`, а также отдельные параметры, было принято решение провести тестирование гипотезы 7 \"Добавить форму подписки на все основные страницы, чтобы собрать базу клиентов для email-рассылок\". Она имеет максимальный охват, высокую степень влияния на пользователей, средний уровень затрат на ее проверку и позволяет с большой уверенностью оценить параметры."
   ]
  },
  {
   "cell_type": "markdown",
   "metadata": {},
   "source": [
    "## Анализ A/B-теста"
   ]
  },
  {
   "cell_type": "markdown",
   "metadata": {},
   "source": [
    "### Подготовка данных для анализа"
   ]
  },
  {
   "cell_type": "markdown",
   "metadata": {},
   "source": [
    "Было проведено тестирование гипотезы 7, результаты доступны в двух файлах. Сохраним каждый файл в своей переменной и проанализируем данные. Начнем с файла с заказами."
   ]
  },
  {
   "cell_type": "code",
   "execution_count": 6,
   "metadata": {},
   "outputs": [
    {
     "data": {
      "text/html": [
       "<div>\n",
       "<style scoped>\n",
       "    .dataframe tbody tr th:only-of-type {\n",
       "        vertical-align: middle;\n",
       "    }\n",
       "\n",
       "    .dataframe tbody tr th {\n",
       "        vertical-align: top;\n",
       "    }\n",
       "\n",
       "    .dataframe thead th {\n",
       "        text-align: right;\n",
       "    }\n",
       "</style>\n",
       "<table border=\"1\" class=\"dataframe\">\n",
       "  <thead>\n",
       "    <tr style=\"text-align: right;\">\n",
       "      <th></th>\n",
       "      <th>transactionId</th>\n",
       "      <th>visitorId</th>\n",
       "      <th>date</th>\n",
       "      <th>revenue</th>\n",
       "      <th>group</th>\n",
       "    </tr>\n",
       "  </thead>\n",
       "  <tbody>\n",
       "    <tr>\n",
       "      <td>0</td>\n",
       "      <td>3667963787</td>\n",
       "      <td>3312258926</td>\n",
       "      <td>2019-08-15</td>\n",
       "      <td>1650</td>\n",
       "      <td>B</td>\n",
       "    </tr>\n",
       "    <tr>\n",
       "      <td>1</td>\n",
       "      <td>2804400009</td>\n",
       "      <td>3642806036</td>\n",
       "      <td>2019-08-15</td>\n",
       "      <td>730</td>\n",
       "      <td>B</td>\n",
       "    </tr>\n",
       "    <tr>\n",
       "      <td>2</td>\n",
       "      <td>2961555356</td>\n",
       "      <td>4069496402</td>\n",
       "      <td>2019-08-15</td>\n",
       "      <td>400</td>\n",
       "      <td>A</td>\n",
       "    </tr>\n",
       "    <tr>\n",
       "      <td>3</td>\n",
       "      <td>3797467345</td>\n",
       "      <td>1196621759</td>\n",
       "      <td>2019-08-15</td>\n",
       "      <td>9759</td>\n",
       "      <td>B</td>\n",
       "    </tr>\n",
       "    <tr>\n",
       "      <td>4</td>\n",
       "      <td>2282983706</td>\n",
       "      <td>2322279887</td>\n",
       "      <td>2019-08-15</td>\n",
       "      <td>2308</td>\n",
       "      <td>B</td>\n",
       "    </tr>\n",
       "  </tbody>\n",
       "</table>\n",
       "</div>"
      ],
      "text/plain": [
       "   transactionId   visitorId        date  revenue group\n",
       "0  3667963787     3312258926  2019-08-15  1650     B   \n",
       "1  2804400009     3642806036  2019-08-15  730      B   \n",
       "2  2961555356     4069496402  2019-08-15  400      A   \n",
       "3  3797467345     1196621759  2019-08-15  9759     B   \n",
       "4  2282983706     2322279887  2019-08-15  2308     B   "
      ]
     },
     "execution_count": 6,
     "metadata": {},
     "output_type": "execute_result"
    }
   ],
   "source": [
    "orders = pd.read_csv('/datasets/orders.csv')\n",
    "orders.head()"
   ]
  },
  {
   "cell_type": "code",
   "execution_count": 7,
   "metadata": {},
   "outputs": [
    {
     "name": "stdout",
     "output_type": "stream",
     "text": [
      "<class 'pandas.core.frame.DataFrame'>\n",
      "RangeIndex: 1197 entries, 0 to 1196\n",
      "Data columns (total 5 columns):\n",
      "transactionId    1197 non-null int64\n",
      "visitorId        1197 non-null int64\n",
      "date             1197 non-null object\n",
      "revenue          1197 non-null int64\n",
      "group            1197 non-null object\n",
      "dtypes: int64(3), object(2)\n",
      "memory usage: 46.9+ KB\n"
     ]
    }
   ],
   "source": [
    "orders.info()"
   ]
  },
  {
   "cell_type": "markdown",
   "metadata": {},
   "source": [
    "Таблица состоит из 1197 строк, в которых такие данные:\n",
    "\n",
    "* transactionId — идентификатор заказа;\n",
    "* visitorId — идентификатор пользователя, совершившего заказ;\n",
    "* date — дата, когда был совершён заказ;\n",
    "* revenue — выручка заказа;\n",
    "* group — группа A/B-теста, в которую попал заказ.\n",
    "\n",
    "Тип данных неправильно указан у столбца `date`, переведем его в подходящий тип для даты. Затем проверим исправление и посмотрим, есть ли дубликаты строк."
   ]
  },
  {
   "cell_type": "code",
   "execution_count": 8,
   "metadata": {},
   "outputs": [
    {
     "name": "stdout",
     "output_type": "stream",
     "text": [
      "<class 'pandas.core.frame.DataFrame'>\n",
      "RangeIndex: 1197 entries, 0 to 1196\n",
      "Data columns (total 5 columns):\n",
      "transactionId    1197 non-null int64\n",
      "visitorId        1197 non-null int64\n",
      "date             1197 non-null datetime64[ns]\n",
      "revenue          1197 non-null int64\n",
      "group            1197 non-null object\n",
      "dtypes: datetime64[ns](1), int64(3), object(1)\n",
      "memory usage: 46.9+ KB\n"
     ]
    }
   ],
   "source": [
    "orders['date'] = orders['date'].map(lambda x: dt.datetime.strptime(x, '%Y-%m-%d'))\n",
    "orders.info()"
   ]
  },
  {
   "cell_type": "code",
   "execution_count": 9,
   "metadata": {},
   "outputs": [
    {
     "data": {
      "text/plain": [
       "0"
      ]
     },
     "execution_count": 9,
     "metadata": {},
     "output_type": "execute_result"
    }
   ],
   "source": [
    "orders.duplicated().sum()"
   ]
  },
  {
   "cell_type": "markdown",
   "metadata": {},
   "source": [
    "Дубликатов не нашлось. Проверим, нет ли пользователей, которые попали в обе группы теста."
   ]
  },
  {
   "cell_type": "code",
   "execution_count": 10,
   "metadata": {},
   "outputs": [
    {
     "data": {
      "text/plain": [
       "(58, 2)"
      ]
     },
     "execution_count": 10,
     "metadata": {},
     "output_type": "execute_result"
    }
   ],
   "source": [
    "orders_grouped = orders.groupby('visitorId').agg({'group': 'nunique'})\n",
    "usersInTwoGroups = orders_grouped[orders_grouped['group'] == 2].reset_index()\n",
    "usersInTwoGroups.shape"
   ]
  },
  {
   "cell_type": "markdown",
   "metadata": {},
   "source": [
    "58 пользователей попали в обе группы. Нужно сообщить об этом коллегам, которые занимались распределением пользователей.\n",
    "\n",
    "Теперь перейдем к файлу с визитами."
   ]
  },
  {
   "cell_type": "code",
   "execution_count": 11,
   "metadata": {},
   "outputs": [
    {
     "data": {
      "text/html": [
       "<div>\n",
       "<style scoped>\n",
       "    .dataframe tbody tr th:only-of-type {\n",
       "        vertical-align: middle;\n",
       "    }\n",
       "\n",
       "    .dataframe tbody tr th {\n",
       "        vertical-align: top;\n",
       "    }\n",
       "\n",
       "    .dataframe thead th {\n",
       "        text-align: right;\n",
       "    }\n",
       "</style>\n",
       "<table border=\"1\" class=\"dataframe\">\n",
       "  <thead>\n",
       "    <tr style=\"text-align: right;\">\n",
       "      <th></th>\n",
       "      <th>date</th>\n",
       "      <th>group</th>\n",
       "      <th>visitors</th>\n",
       "    </tr>\n",
       "  </thead>\n",
       "  <tbody>\n",
       "    <tr>\n",
       "      <td>0</td>\n",
       "      <td>2019-08-01</td>\n",
       "      <td>A</td>\n",
       "      <td>719</td>\n",
       "    </tr>\n",
       "    <tr>\n",
       "      <td>1</td>\n",
       "      <td>2019-08-02</td>\n",
       "      <td>A</td>\n",
       "      <td>619</td>\n",
       "    </tr>\n",
       "    <tr>\n",
       "      <td>2</td>\n",
       "      <td>2019-08-03</td>\n",
       "      <td>A</td>\n",
       "      <td>507</td>\n",
       "    </tr>\n",
       "    <tr>\n",
       "      <td>3</td>\n",
       "      <td>2019-08-04</td>\n",
       "      <td>A</td>\n",
       "      <td>717</td>\n",
       "    </tr>\n",
       "    <tr>\n",
       "      <td>4</td>\n",
       "      <td>2019-08-05</td>\n",
       "      <td>A</td>\n",
       "      <td>756</td>\n",
       "    </tr>\n",
       "  </tbody>\n",
       "</table>\n",
       "</div>"
      ],
      "text/plain": [
       "         date group  visitors\n",
       "0  2019-08-01  A     719     \n",
       "1  2019-08-02  A     619     \n",
       "2  2019-08-03  A     507     \n",
       "3  2019-08-04  A     717     \n",
       "4  2019-08-05  A     756     "
      ]
     },
     "execution_count": 11,
     "metadata": {},
     "output_type": "execute_result"
    }
   ],
   "source": [
    "visitors = pd.read_csv('/datasets/visitors.csv')\n",
    "visitors.head()"
   ]
  },
  {
   "cell_type": "code",
   "execution_count": 12,
   "metadata": {},
   "outputs": [
    {
     "name": "stdout",
     "output_type": "stream",
     "text": [
      "<class 'pandas.core.frame.DataFrame'>\n",
      "RangeIndex: 62 entries, 0 to 61\n",
      "Data columns (total 3 columns):\n",
      "date        62 non-null object\n",
      "group       62 non-null object\n",
      "visitors    62 non-null int64\n",
      "dtypes: int64(1), object(2)\n",
      "memory usage: 1.6+ KB\n"
     ]
    }
   ],
   "source": [
    "visitors.info()"
   ]
  },
  {
   "cell_type": "markdown",
   "metadata": {},
   "source": [
    "В этой таблице всего 62 строки со столбцами:\n",
    "\n",
    "* date — дата;\n",
    "* group — группа A/B-теста;\n",
    "* visitors — количество пользователей в указанную дату в указанной группе A/B-теста\n",
    "\n",
    "Также необходимо поменять тип данных у столбца с датой."
   ]
  },
  {
   "cell_type": "code",
   "execution_count": 13,
   "metadata": {},
   "outputs": [
    {
     "name": "stdout",
     "output_type": "stream",
     "text": [
      "<class 'pandas.core.frame.DataFrame'>\n",
      "RangeIndex: 62 entries, 0 to 61\n",
      "Data columns (total 3 columns):\n",
      "date        62 non-null datetime64[ns]\n",
      "group       62 non-null object\n",
      "visitors    62 non-null int64\n",
      "dtypes: datetime64[ns](1), int64(1), object(1)\n",
      "memory usage: 1.6+ KB\n"
     ]
    }
   ],
   "source": [
    "visitors['date'] = visitors['date'].map(lambda x: dt.datetime.strptime(x, '%Y-%m-%d'))\n",
    "visitors.info()"
   ]
  },
  {
   "cell_type": "code",
   "execution_count": 14,
   "metadata": {
    "scrolled": true
   },
   "outputs": [
    {
     "data": {
      "text/plain": [
       "0"
      ]
     },
     "execution_count": 14,
     "metadata": {},
     "output_type": "execute_result"
    }
   ],
   "source": [
    "visitors.duplicated().sum()"
   ]
  },
  {
   "cell_type": "markdown",
   "metadata": {},
   "source": [
    "Дубликатов также нет, тип данных изменен успешно."
   ]
  },
  {
   "cell_type": "markdown",
   "metadata": {},
   "source": [
    "**Вывод**\n",
    "\n",
    "После проведения A/B-теста было сформировано два файла, в которых дана информация по заказам и количеству пользователей в каждой группе на определенную дату. В обоих файлах нужно было привести к правильному типу данные в столбце `date`. В таблице с заказами обнаружились пользователи, которые попали в обе группы тестирования. Информацию передали коллегам, которые занимались распределением людей по группам."
   ]
  },
  {
   "cell_type": "markdown",
   "metadata": {},
   "source": [
    "### Кумулятивные метрики"
   ]
  },
  {
   "cell_type": "markdown",
   "metadata": {},
   "source": [
    "Сначала создадим таблицу, в которой соберем все кумулятивные данные."
   ]
  },
  {
   "cell_type": "code",
   "execution_count": 15,
   "metadata": {},
   "outputs": [
    {
     "data": {
      "text/html": [
       "<div>\n",
       "<style scoped>\n",
       "    .dataframe tbody tr th:only-of-type {\n",
       "        vertical-align: middle;\n",
       "    }\n",
       "\n",
       "    .dataframe tbody tr th {\n",
       "        vertical-align: top;\n",
       "    }\n",
       "\n",
       "    .dataframe thead th {\n",
       "        text-align: right;\n",
       "    }\n",
       "</style>\n",
       "<table border=\"1\" class=\"dataframe\">\n",
       "  <thead>\n",
       "    <tr style=\"text-align: right;\">\n",
       "      <th></th>\n",
       "      <th>date</th>\n",
       "      <th>group</th>\n",
       "      <th>orders</th>\n",
       "      <th>buyers</th>\n",
       "      <th>revenue</th>\n",
       "      <th>visitors</th>\n",
       "    </tr>\n",
       "  </thead>\n",
       "  <tbody>\n",
       "    <tr>\n",
       "      <td>0</td>\n",
       "      <td>2019-08-01</td>\n",
       "      <td>A</td>\n",
       "      <td>24</td>\n",
       "      <td>20</td>\n",
       "      <td>148579</td>\n",
       "      <td>719</td>\n",
       "    </tr>\n",
       "    <tr>\n",
       "      <td>1</td>\n",
       "      <td>2019-08-01</td>\n",
       "      <td>B</td>\n",
       "      <td>21</td>\n",
       "      <td>20</td>\n",
       "      <td>101217</td>\n",
       "      <td>713</td>\n",
       "    </tr>\n",
       "    <tr>\n",
       "      <td>2</td>\n",
       "      <td>2019-08-02</td>\n",
       "      <td>A</td>\n",
       "      <td>44</td>\n",
       "      <td>38</td>\n",
       "      <td>242401</td>\n",
       "      <td>1338</td>\n",
       "    </tr>\n",
       "    <tr>\n",
       "      <td>3</td>\n",
       "      <td>2019-08-02</td>\n",
       "      <td>B</td>\n",
       "      <td>45</td>\n",
       "      <td>43</td>\n",
       "      <td>266748</td>\n",
       "      <td>1294</td>\n",
       "    </tr>\n",
       "    <tr>\n",
       "      <td>4</td>\n",
       "      <td>2019-08-03</td>\n",
       "      <td>A</td>\n",
       "      <td>68</td>\n",
       "      <td>62</td>\n",
       "      <td>354874</td>\n",
       "      <td>1845</td>\n",
       "    </tr>\n",
       "  </tbody>\n",
       "</table>\n",
       "</div>"
      ],
      "text/plain": [
       "        date group  orders  buyers  revenue  visitors\n",
       "0 2019-08-01  A     24      20      148579   719     \n",
       "1 2019-08-01  B     21      20      101217   713     \n",
       "2 2019-08-02  A     44      38      242401   1338    \n",
       "3 2019-08-02  B     45      43      266748   1294    \n",
       "4 2019-08-03  A     68      62      354874   1845    "
      ]
     },
     "execution_count": 15,
     "metadata": {},
     "output_type": "execute_result"
    }
   ],
   "source": [
    "# создадим массив из уникальных пар дат и групп\n",
    "datesGroups = orders[['date', 'group']].drop_duplicates()\n",
    "\n",
    "# собираем агрегированные кумулятивные данные о заказах по дням\n",
    "ordersAggregated = datesGroups.apply(lambda x: orders[np.logical_and(orders['date'] <= x['date'], orders['group'] == x['group'])]\n",
    "                                     .agg({'date':'max', \n",
    "                                           'group':'max', \n",
    "                                           'transactionId':pd.Series.nunique, \n",
    "                                           'visitorId':pd.Series.nunique, \n",
    "                                           'revenue':'sum'}), axis=1).sort_values(by=['date', 'group'])\n",
    "\n",
    "# собираем агрегированные кумулятивные данные о посетителях по дням\n",
    "visitorsAggregated = datesGroups.apply(lambda x: visitors[np.logical_and(visitors['date'] <= x['date'], visitors['group'] == x['group'])]\n",
    "                                      .agg({'date':'max', \n",
    "                                            'group':'max', \n",
    "                                            'visitors':'sum'}), axis=1).sort_values(by=['date', 'group'])\n",
    "\n",
    "# соединяем две таблицы с кумулятивными данными и переименновываем столбцы\n",
    "cumulativeData = ordersAggregated.merge(visitorsAggregated, left_on=['date', 'group'], right_on=['date', 'group'])\n",
    "cumulativeData.columns = ['date', 'group', 'orders', 'buyers', 'revenue', 'visitors']\n",
    "cumulativeData.head()"
   ]
  },
  {
   "cell_type": "markdown",
   "metadata": {},
   "source": [
    "Получилась таблица со следующими столбцами:\n",
    "\n",
    "* date - дата;\n",
    "* group - группа A/B-теста;\n",
    "* orders - количество заказов;\n",
    "* buyers - число покупателей;\n",
    "* revenue - общая выручка за день;\n",
    "* visitors - число посетителей.\n",
    "\n",
    "Далее будем работать с этой таблицей."
   ]
  },
  {
   "cell_type": "markdown",
   "metadata": {},
   "source": [
    "#### Кумулятивная выручка по группам"
   ]
  },
  {
   "cell_type": "markdown",
   "metadata": {},
   "source": [
    "Создадим две переменные, в которых будут собраны данные о датах, выручке и числе заказов в группах A и B. Затем построим график."
   ]
  },
  {
   "cell_type": "code",
   "execution_count": 16,
   "metadata": {},
   "outputs": [
    {
     "data": {
      "image/png": "[encoded data removed]",
      "text/plain": [
       "<Figure size 936x576 with 1 Axes>"
      ]
     },
     "metadata": {
      "needs_background": "light"
     },
     "output_type": "display_data"
    }
   ],
   "source": [
    "# выделяем данные по группа теста\n",
    "cumulativeRevenueA = cumulativeData[cumulativeData['group']=='A'][['date', 'revenue', 'orders']]\n",
    "cumulativeRevenueB = cumulativeData[cumulativeData['group']=='B'][['date', 'revenue', 'orders']]\n",
    "\n",
    "# строим график кумулятивной выручки по группам\n",
    "plt.figure(figsize=(13, 8))\n",
    "plt.xlabel('Дата')\n",
    "plt.ylabel('Выручка')\n",
    "plt.title('Кумулятивная выручка по дням и группам A/B-теста')\n",
    "plt.plot(cumulativeRevenueA['date'], cumulativeRevenueA['revenue'], label = 'A')\n",
    "plt.plot(cumulativeRevenueB['date'], cumulativeRevenueB['revenue'], label = 'B')\n",
    "plt.legend()\n",
    "plt.grid()\n",
    "plt.show()"
   ]
  },
  {
   "cell_type": "markdown",
   "metadata": {},
   "source": [
    "До 5 августа обе группы имели примерно одинаковую кумулятивную выручку, затем группа `B`, в которой тестируется нововведение, начала постепенно отрываться. 13 августа оба графика сходятся за счет большей выручки у группы `A` в этот день. Но затем график группы `B` начал возрастать быстрее. И 18 августа у этой группы произошел резкий скачок. Вероятно, это связано с одним или несколькими большими заказами, сделанным в этот день. После 19 августа выручка в группе `B` продолжила равномерно подниматься.\n",
    "\n",
    "Выручка в группе `A` равномерно увеличивается в течение всего месяца эксперимента."
   ]
  },
  {
   "cell_type": "markdown",
   "metadata": {},
   "source": [
    "#### Кумулятивный средний чек по группам"
   ]
  },
  {
   "cell_type": "markdown",
   "metadata": {},
   "source": [
    "Посмотрим, как изменялся в течение месяца средний чек у каждой из групп, разделив выручку на количество заказов и построив график."
   ]
  },
  {
   "cell_type": "code",
   "execution_count": 17,
   "metadata": {},
   "outputs": [
    {
     "data": {
      "image/png": "[encoded data removed]",
      "text/plain": [
       "<Figure size 936x576 with 1 Axes>"
      ]
     },
     "metadata": {
      "needs_background": "light"
     },
     "output_type": "display_data"
    }
   ],
   "source": [
    "plt.figure(figsize=(13, 8))\n",
    "plt.xlabel('Дата')\n",
    "plt.ylabel('Средний чек')\n",
    "plt.title('Кумулятивный средний чек по дням и группам A/B-теста')\n",
    "plt.plot(cumulativeRevenueA['date'], cumulativeRevenueA['revenue']/cumulativeRevenueA['orders'], label='A')\n",
    "plt.plot(cumulativeRevenueB['date'], cumulativeRevenueB['revenue']/cumulativeRevenueB['orders'], label='B')\n",
    "plt.legend()\n",
    "plt.grid()\n",
    "plt.show()"
   ]
  },
  {
   "cell_type": "markdown",
   "metadata": {},
   "source": [
    "Кумулятивный средний чек у группы `A` сначала снижался, достигнув минимума 6 августа, затем он начал резко расти. Довольно большой скачок 13 августа, видимо, был большой заказ. Далее средний чек начинает немного снижаться до 23 августа, стабилизируясь ближе к концу исследуемого периода и заканчивая ростом.\n",
    "\n",
    "Кумулятивный средний чек у группы `B` в начале теста ниже, чем у группы `A`. Дальше он начинает расти, был небольшой спад 5 августа, затем снова подъем в течение 3 дней. С 12 августа по 15 августа средний чек группы `B` ниже среднего чека группы `A`. 15 августа на графике кумулятивной выручки у двух графиков значения сходятся. Это говорит о том, что в группе `A` появился довольно крупный заказ или было много обычных заказов, что находит отражение в графике со средним чеком. В этот день он достигает максимального значения в группе `A` за все время тестирования.\n",
    "\n",
    "Аналогично графику кумулятивной выручки 18 августа средний чек группы `B` резко возрастает. Значит, предположение о большом заказе или заказах, скорее всего, верно. Далее средний чек группы `B` начинает снижаться. Вероятно, что больше не было крупных заказов."
   ]
  },
  {
   "cell_type": "markdown",
   "metadata": {},
   "source": [
    "#### Относительное изменение кумулятивного среднего чека группы B к группе A"
   ]
  },
  {
   "cell_type": "markdown",
   "metadata": {},
   "source": [
    "Построим график, который покажет соотношения между среднем чеком групп `A` и `B`."
   ]
  },
  {
   "cell_type": "code",
   "execution_count": 18,
   "metadata": {},
   "outputs": [
    {
     "data": {
      "image/png": "[encoded data removed]",
      "text/plain": [
       "<Figure size 936x576 with 1 Axes>"
      ]
     },
     "metadata": {
      "needs_background": "light"
     },
     "output_type": "display_data"
    }
   ],
   "source": [
    "# соединяем две таблицы с данными по каждой группе\n",
    "mergedCumulativeRevenue = cumulativeRevenueA.merge(cumulativeRevenueB, \n",
    "                                                   left_on='date', right_on='date', \n",
    "                                                   how='left', suffixes=['A', 'B'])\n",
    "\n",
    "# строим график изменения кумулятивного среднего чека \n",
    "plt.figure(figsize=(13, 8))\n",
    "plt.xlabel('Дата')\n",
    "plt.ylabel('Соотношение среднего чека группы В к группе А')\n",
    "plt.title('Относительное изменение кумулятивного среднего чека группы B к группе A')\n",
    "plt.plot(mergedCumulativeRevenue['date'], \n",
    "         (mergedCumulativeRevenue['revenueB']/mergedCumulativeRevenue['ordersB'])/\n",
    "         (mergedCumulativeRevenue['revenueA']/mergedCumulativeRevenue['ordersA'])-1)\n",
    "\n",
    "# добавляем ось X\n",
    "plt.axhline(y=0, color='black', linestyle='--')\n",
    "plt.show()"
   ]
  },
  {
   "cell_type": "markdown",
   "metadata": {},
   "source": [
    "График несколько раз меняет направление, значит, есть заказы, которые сильно влияют на значение среднего чека. Значение среднего чека несколько раз принимает отрицательные значения, т.е. кумулятивный чек группы `A` превышает значение группы `B`. Под конец исследуемого периода изменение графика становится спокойнее и идет на снижение. Скорее всего, график стабилизируется после аномальных значений в середине месяца."
   ]
  },
  {
   "cell_type": "markdown",
   "metadata": {},
   "source": [
    "#### Кумулятивная конверсия по группам"
   ]
  },
  {
   "cell_type": "markdown",
   "metadata": {},
   "source": [
    "Теперь перейдет к анализу конверсии по группам. Для начала найдем кумулятивную конверсию в таблице `cumulativeData`, разделив число заказов на число посетителей. Затем выделим данные по группам тестирования и построим график изменения."
   ]
  },
  {
   "cell_type": "code",
   "execution_count": 19,
   "metadata": {},
   "outputs": [
    {
     "data": {
      "image/png": "[encoded data removed]",
      "text/plain": [
       "<Figure size 864x432 with 1 Axes>"
      ]
     },
     "metadata": {
      "needs_background": "light"
     },
     "output_type": "display_data"
    }
   ],
   "source": [
    "# добавляем столбец с конверсией\n",
    "cumulativeData['conversion'] = cumulativeData['orders']/cumulativeData['visitors']\n",
    "\n",
    "# выделяем группы тестирования\n",
    "cumulativeDataA = cumulativeData[cumulativeData['group']=='A']\n",
    "cumulativeDataB = cumulativeData[cumulativeData['group']=='B']\n",
    "\n",
    "# строим график кумулятивной конверсии по группам\n",
    "plt.figure(figsize=(12, 6))\n",
    "plt.xlabel('Дата')\n",
    "plt.ylabel('Конверсия')\n",
    "plt.title('Кумулятивная конверсия по группам')\n",
    "plt.plot(cumulativeDataA['date'], cumulativeDataA['conversion'], label='A')\n",
    "plt.plot(cumulativeDataB['date'], cumulativeDataB['conversion'], label='B')\n",
    "plt.legend()\n",
    "plt.grid()\n",
    "\n",
    "# задаем ограничения осей\n",
    "plt.axis([\"2019-08-01\", '2019-09-01', 0.025, 0.04])\n",
    "plt.show()"
   ]
  },
  {
   "cell_type": "markdown",
   "metadata": {},
   "source": [
    "В самом начале проведения тестирования конверсии обеих групп сильно колебались. Резкий рост и затем падение конверсии в начале у группы `A` сменяется стабилизацией после 9 августа и далее ее значения колебались около значения 3%. В течение всего времени график колеблется в пределах 2,9% и 3,7% значений. Что незначительно.\n",
    "\n",
    "У группы `B` значение кумулятивной конверсии сильнее меняется. Практически все значения кумулятивной конверсии группы `B` до 6 августа были меньше, чем у группы `A`. Ближе к концу месяца после 18 августа значения начинают стабилизироваться и держатся около 3,4%. Несмотря на большее количество изменений направления графика, он более стабильный, чем график конверсии группы `A` - в пределах 3% и 3,6%."
   ]
  },
  {
   "cell_type": "markdown",
   "metadata": {},
   "source": [
    "#### Относительное изменение кумулятивной конверсии группы B к группе A"
   ]
  },
  {
   "cell_type": "markdown",
   "metadata": {},
   "source": [
    "Построим график относительного различия кумулятивных конверсий."
   ]
  },
  {
   "cell_type": "code",
   "execution_count": 20,
   "metadata": {},
   "outputs": [
    {
     "data": {
      "image/png": "[encoded data removed]",
      "text/plain": [
       "<Figure size 864x432 with 1 Axes>"
      ]
     },
     "metadata": {
      "needs_background": "light"
     },
     "output_type": "display_data"
    }
   ],
   "source": [
    "# объединяем группы конверсий\n",
    "mergedCumulativeConversions = cumulativeDataA[['date','conversion']]\\\n",
    ".merge(cumulativeDataB[['date','conversion']], left_on='date', right_on='date', how='left', suffixes=['A', 'B'])\n",
    "\n",
    "# строим график\n",
    "plt.figure(figsize=(12, 6))\n",
    "plt.xlabel('Дата')\n",
    "plt.ylabel('Соотношение конверсии группы В к группе А')\n",
    "plt.title('Относительный прирост конверсии группы B относительно группы A')\n",
    "plt.plot(mergedCumulativeConversions['date'],\n",
    "         mergedCumulativeConversions['conversionB']/mergedCumulativeConversions['conversionA']-1)\n",
    "\n",
    "# задаем две оси X и ограничения по осям\n",
    "plt.axhline(y=0, color='black', linestyle='--')\n",
    "plt.axhline(y=0.14, color='grey', linestyle='--')\n",
    "plt.axis([\"2019-08-01\", '2019-09-01', -0.15, 0.25])\n",
    "plt.grid()\n",
    "plt.show()"
   ]
  },
  {
   "cell_type": "markdown",
   "metadata": {},
   "source": [
    "Начиная с 6 августа конверсия группы `B` больше. С 11 августа колеблется около 14% прироста относительно группы `A`. Вероятно, что в дальнейшем у этого уровня и зафиксируется значение относительного прироста конверсии."
   ]
  },
  {
   "cell_type": "markdown",
   "metadata": {},
   "source": [
    "**Вывод**\n",
    "\n",
    "В процессе анализа графиков кумулятивных выручки, среднего чека и конверсии было выявлено, что в данных есть большие значения - резкие изменения на графиках кумулятивной выручки по группам и кумулятивного среднего чека. Поэтому пока сложно сделать однозначные выводы. Необходимо проверить, насколько сильно аномалии влияют на параметры. "
   ]
  },
  {
   "cell_type": "markdown",
   "metadata": {},
   "source": [
    "### Анализ выбросов"
   ]
  },
  {
   "cell_type": "markdown",
   "metadata": {},
   "source": [
    "#### Изучение количества заказов по пользователям"
   ]
  },
  {
   "cell_type": "markdown",
   "metadata": {},
   "source": [
    "Посмотрим на число заказов у каждого пользователя и построим диаграмму распределения"
   ]
  },
  {
   "cell_type": "code",
   "execution_count": 21,
   "metadata": {
    "scrolled": true
   },
   "outputs": [
    {
     "data": {
      "image/png": "[encoded data removed]",
      "text/plain": [
       "<Figure size 432x288 with 1 Axes>"
      ]
     },
     "metadata": {
      "needs_background": "light"
     },
     "output_type": "display_data"
    }
   ],
   "source": [
    "# группируем данные по пользователям и переименовываем столбцы\n",
    "ordersByUsers = orders.drop(['group', 'revenue', 'date'], axis=1)\\\n",
    ".groupby('visitorId', as_index=False).agg({'transactionId': pd.Series.nunique})\n",
    "ordersByUsers.columns = ['visitorId', 'orders']\n",
    "\n",
    "# строи диаграмму распределения\n",
    "x_values = pd.Series(range(0,len(ordersByUsers)))\n",
    "plt.title('Распределение количества заказов по пользователям')\n",
    "plt.scatter(x_values, ordersByUsers['orders'])\n",
    "plt.show()"
   ]
  },
  {
   "cell_type": "markdown",
   "metadata": {},
   "source": [
    "Много пользователей с 1-2 заказами. Совсем редки заказы больше 2. \n",
    "\n",
    "Посчитаем 95 и 99 перцентили, чтобы определить границу пользователей с большим количеством заказов."
   ]
  },
  {
   "cell_type": "code",
   "execution_count": 22,
   "metadata": {},
   "outputs": [
    {
     "data": {
      "text/plain": [
       "array([2., 4.])"
      ]
     },
     "execution_count": 22,
     "metadata": {},
     "output_type": "execute_result"
    }
   ],
   "source": [
    "np.percentile(ordersByUsers['orders'], [95, 99])"
   ]
  },
  {
   "cell_type": "markdown",
   "metadata": {},
   "source": [
    "Получается, что не более 5% людей совершают более 2 заказов и все 1% людей делают больше 4. Установим границу в 2 заказа, значения больше которого будем считать аномально большими."
   ]
  },
  {
   "cell_type": "markdown",
   "metadata": {},
   "source": [
    "#### Изучение стоимости заказов"
   ]
  },
  {
   "cell_type": "markdown",
   "metadata": {},
   "source": [
    "Построим точечный график распределения заказов. "
   ]
  },
  {
   "cell_type": "code",
   "execution_count": 23,
   "metadata": {},
   "outputs": [
    {
     "data": {
      "image/png": "[encoded data removed]",
      "text/plain": [
       "<Figure size 432x288 with 1 Axes>"
      ]
     },
     "metadata": {
      "needs_background": "light"
     },
     "output_type": "display_data"
    }
   ],
   "source": [
    "x_values = pd.Series(range(0,len(orders['revenue'])))\n",
    "plt.title('Распределение стоимости заказов')\n",
    "plt.scatter(x_values, orders['revenue'])\n",
    "plt.show()"
   ]
  },
  {
   "cell_type": "markdown",
   "metadata": {},
   "source": [
    "Практически все значения находят до 60-70 тыс. Попробуем посмотреть на график, исключив выбросы и отфильтровав значения по оси Y меньше 100 тыс."
   ]
  },
  {
   "cell_type": "code",
   "execution_count": 24,
   "metadata": {},
   "outputs": [
    {
     "data": {
      "image/png": "[encoded data removed]",
      "text/plain": [
       "<Figure size 432x288 with 1 Axes>"
      ]
     },
     "metadata": {
      "needs_background": "light"
     },
     "output_type": "display_data"
    }
   ],
   "source": [
    "x_values = pd.Series(range(0,len(orders['revenue'])))\n",
    "plt.title('Распределение стоимости заказов')\n",
    "plt.scatter(x_values, orders['revenue'])\n",
    "plt.axis([0, 1200, 0, 100000])\n",
    "plt.show()"
   ]
  },
  {
   "cell_type": "markdown",
   "metadata": {},
   "source": [
    "Практически все значения находят до 30 тыс. Основная масса располагается до 20 тыс. Чтобы точнее определить границы стоимости заказа, посчитаем 95 и 99 перцентили."
   ]
  },
  {
   "cell_type": "code",
   "execution_count": 25,
   "metadata": {},
   "outputs": [
    {
     "data": {
      "text/plain": [
       "array([28000. , 58233.2])"
      ]
     },
     "execution_count": 25,
     "metadata": {},
     "output_type": "execute_result"
    }
   ],
   "source": [
    "np.percentile(orders['revenue'], [95, 99])"
   ]
  },
  {
   "cell_type": "markdown",
   "metadata": {},
   "source": [
    "Заказы более 28 тыс. совершает всего 5% пользователей, а больше 58 233,20 только 1%. Поскольку большинство заказов находятся до 30 тыс., а 28 тыс. - это 95 перцентиль, то, чтобы отсечь большинство крупных заказов и оставить основную массы, возьмем 30 тыс. в качестве границы стоимости заказа."
   ]
  },
  {
   "cell_type": "markdown",
   "metadata": {},
   "source": [
    "**Вывод**"
   ]
  },
  {
   "cell_type": "markdown",
   "metadata": {},
   "source": [
    "В данных действительно оказались аномальные значения. Чтобы проверить насколько они влияют на выборку, установили границы по заказам и по их стоимости - 2 и 30 тыс. соответственно."
   ]
  },
  {
   "cell_type": "markdown",
   "metadata": {},
   "source": [
    "### Статистическая значимость различий"
   ]
  },
  {
   "cell_type": "markdown",
   "metadata": {},
   "source": [
    "Для начала подготовим исходную таблицу, которая будет содержать следующие данные:\n",
    "\n",
    "* date — дата;\n",
    "* ordersPerDateA — количество заказов в выбранную дату в группе A;\n",
    "* revenuePerDateA — суммарная выручка в выбранную дату в группе A;\n",
    "* ordersPerDateB — количество заказов в выбранную дату в группе B;\n",
    "* revenuePerDateB — суммарная выручка в выбранную дату в группе B;\n",
    "* ordersCummulativeA — суммарное число заказов до выбранной даты включительно в группе A;\n",
    "* revenueCummulativeA — суммарная выручка до выбранной даты включительно в группе A;\n",
    "* ordersCummulativeB — суммарное количество заказов до выбранной даты включительно в группе B;\n",
    "* revenueCummulativeB — суммарная выручка до выбранной даты включительно в группе B;\n",
    "* visitorsPerDateA — количество пользователей в выбранную дату в группе A;\n",
    "* visitorsPerDateB — количество пользователей в выбранную дату в группе B;\n",
    "* visitorsCummulativeA — количество пользователей до выбранной даты включительно в группе A;\n",
    "* visitorsCummulativeB — количество пользователей до выбранной даты включительно в группе B."
   ]
  },
  {
   "cell_type": "code",
   "execution_count": 26,
   "metadata": {},
   "outputs": [
    {
     "data": {
      "text/html": [
       "<div>\n",
       "<style scoped>\n",
       "    .dataframe tbody tr th:only-of-type {\n",
       "        vertical-align: middle;\n",
       "    }\n",
       "\n",
       "    .dataframe tbody tr th {\n",
       "        vertical-align: top;\n",
       "    }\n",
       "\n",
       "    .dataframe thead th {\n",
       "        text-align: right;\n",
       "    }\n",
       "</style>\n",
       "<table border=\"1\" class=\"dataframe\">\n",
       "  <thead>\n",
       "    <tr style=\"text-align: right;\">\n",
       "      <th></th>\n",
       "      <th>date</th>\n",
       "      <th>ordersPerDateA</th>\n",
       "      <th>revenuePerDateA</th>\n",
       "      <th>ordersPerDateB</th>\n",
       "      <th>revenuePerDateB</th>\n",
       "      <th>ordersCummulativeA</th>\n",
       "      <th>revenueCummulativeA</th>\n",
       "      <th>ordersCummulativeB</th>\n",
       "      <th>revenueCummulativeB</th>\n",
       "      <th>visitorsPerDateA</th>\n",
       "      <th>visitorsPerDateB</th>\n",
       "      <th>visitorsCummulativeA</th>\n",
       "      <th>visitorsCummulativeB</th>\n",
       "    </tr>\n",
       "  </thead>\n",
       "  <tbody>\n",
       "    <tr>\n",
       "      <td>0</td>\n",
       "      <td>2019-08-01</td>\n",
       "      <td>24</td>\n",
       "      <td>148579</td>\n",
       "      <td>21</td>\n",
       "      <td>101217</td>\n",
       "      <td>24</td>\n",
       "      <td>148579</td>\n",
       "      <td>21</td>\n",
       "      <td>101217</td>\n",
       "      <td>719</td>\n",
       "      <td>713</td>\n",
       "      <td>719</td>\n",
       "      <td>713</td>\n",
       "    </tr>\n",
       "    <tr>\n",
       "      <td>1</td>\n",
       "      <td>2019-08-02</td>\n",
       "      <td>20</td>\n",
       "      <td>93822</td>\n",
       "      <td>24</td>\n",
       "      <td>165531</td>\n",
       "      <td>44</td>\n",
       "      <td>242401</td>\n",
       "      <td>45</td>\n",
       "      <td>266748</td>\n",
       "      <td>619</td>\n",
       "      <td>581</td>\n",
       "      <td>1338</td>\n",
       "      <td>1294</td>\n",
       "    </tr>\n",
       "    <tr>\n",
       "      <td>2</td>\n",
       "      <td>2019-08-03</td>\n",
       "      <td>24</td>\n",
       "      <td>112473</td>\n",
       "      <td>16</td>\n",
       "      <td>114248</td>\n",
       "      <td>68</td>\n",
       "      <td>354874</td>\n",
       "      <td>61</td>\n",
       "      <td>380996</td>\n",
       "      <td>507</td>\n",
       "      <td>509</td>\n",
       "      <td>1845</td>\n",
       "      <td>1803</td>\n",
       "    </tr>\n",
       "    <tr>\n",
       "      <td>3</td>\n",
       "      <td>2019-08-04</td>\n",
       "      <td>16</td>\n",
       "      <td>70825</td>\n",
       "      <td>17</td>\n",
       "      <td>108571</td>\n",
       "      <td>84</td>\n",
       "      <td>425699</td>\n",
       "      <td>78</td>\n",
       "      <td>489567</td>\n",
       "      <td>717</td>\n",
       "      <td>770</td>\n",
       "      <td>2562</td>\n",
       "      <td>2573</td>\n",
       "    </tr>\n",
       "    <tr>\n",
       "      <td>4</td>\n",
       "      <td>2019-08-05</td>\n",
       "      <td>25</td>\n",
       "      <td>124218</td>\n",
       "      <td>23</td>\n",
       "      <td>92428</td>\n",
       "      <td>109</td>\n",
       "      <td>549917</td>\n",
       "      <td>101</td>\n",
       "      <td>581995</td>\n",
       "      <td>756</td>\n",
       "      <td>707</td>\n",
       "      <td>3318</td>\n",
       "      <td>3280</td>\n",
       "    </tr>\n",
       "  </tbody>\n",
       "</table>\n",
       "</div>"
      ],
      "text/plain": [
       "        date  ordersPerDateA  revenuePerDateA  ordersPerDateB  \\\n",
       "0 2019-08-01  24              148579           21               \n",
       "1 2019-08-02  20              93822            24               \n",
       "2 2019-08-03  24              112473           16               \n",
       "3 2019-08-04  16              70825            17               \n",
       "4 2019-08-05  25              124218           23               \n",
       "\n",
       "   revenuePerDateB  ordersCummulativeA  revenueCummulativeA  \\\n",
       "0  101217           24                  148579                \n",
       "1  165531           44                  242401                \n",
       "2  114248           68                  354874                \n",
       "3  108571           84                  425699                \n",
       "4  92428            109                 549917                \n",
       "\n",
       "   ordersCummulativeB  revenueCummulativeB  visitorsPerDateA  \\\n",
       "0  21                  101217               719                \n",
       "1  45                  266748               619                \n",
       "2  61                  380996               507                \n",
       "3  78                  489567               717                \n",
       "4  101                 581995               756                \n",
       "\n",
       "   visitorsPerDateB  visitorsCummulativeA  visitorsCummulativeB  \n",
       "0  713               719                   713                   \n",
       "1  581               1338                  1294                  \n",
       "2  509               1845                  1803                  \n",
       "3  770               2562                  2573                  \n",
       "4  707               3318                  3280                  "
      ]
     },
     "execution_count": 26,
     "metadata": {},
     "output_type": "execute_result"
    }
   ],
   "source": [
    "# создадим переменную с посетителями в группе А на каждую дату и переменнуем столбцы\n",
    "visitorsADaily = visitors[visitors['group']=='A'][['date', 'visitors']]\n",
    "visitorsADaily.columns = ['date', 'visitorsPerDateA']\n",
    "\n",
    "# создадим переменную, где будут собраны кумулятивные данные по количеству пользователей в группе A, и переименнуем столбцы\n",
    "visitorsACummulative = visitorsADaily.apply(lambda x: visitorsADaily[visitorsADaily['date'] <= x['date']]\n",
    "                                            .agg({'date' : 'max', 'visitorsPerDateA' : 'sum'}), axis=1)\n",
    "visitorsACummulative.columns = ['date', 'visitorsCummulativeA']\n",
    "\n",
    "# аналогично создаем для группы В таблицу с посетитеоями на каждую дату и собираем кумулятивные данные\n",
    "visitorsBDaily = visitors[visitors['group']=='B'][['date', 'visitors']]\n",
    "visitorsBDaily.columns = ['date', 'visitorsPerDateB']\n",
    "\n",
    "visitorsBCummulative = visitorsBDaily.apply(lambda x: visitorsBDaily[visitorsBDaily['date'] <= x['date']]\n",
    "                                            .agg({'date' : 'max', 'visitorsPerDateB' : 'sum'}), axis=1)\n",
    "visitorsBCummulative.columns = ['date', 'visitorsCummulativeB']\n",
    "\n",
    "# сгруппируем данные по группе А, выбрав нужные столбцы, посчитаем сумму по выручке и найдем количество заказов на дату\n",
    "ordersADaily = orders[orders['group']=='A'][['date', 'transactionId', 'visitorId', 'revenue']]\\\n",
    ".groupby('date', as_index=False).agg({'transactionId' : pd.Series.nunique, 'revenue' : 'sum'})\n",
    "ordersADaily.columns = ['date', 'ordersPerDateA', 'revenuePerDateA']\n",
    "\n",
    "# найдем кумулятивные данные по сумме выручки и количеству заказов на дату\n",
    "ordersACummulative = ordersADaily.apply(lambda x: ordersADaily[ordersADaily['date'] <= x['date']]\n",
    "                                        .agg({'date' : 'max',\n",
    "                                              'ordersPerDateA' : 'sum', \n",
    "                                              'revenuePerDateA' : 'sum'}), axis=1).sort_values(by=['date'])\n",
    "ordersACummulative.columns = ['date', 'ordersCummulativeA', 'revenueCummulativeA']\n",
    "\n",
    "\n",
    "# аналогично для группы В: сначала группируем по сумме выручки и количеству заказов, затем собираем кумулятивные данные\n",
    "ordersBDaily = orders[orders['group']=='B'][['date', 'transactionId', 'visitorId', 'revenue']]\\\n",
    ".groupby('date', as_index=False).agg({'transactionId' : pd.Series.nunique, 'revenue' : 'sum'})\n",
    "ordersBDaily.columns = ['date', 'ordersPerDateB', 'revenuePerDateB']\n",
    "\n",
    "ordersBCummulative = ordersBDaily.apply(lambda x: ordersBDaily[ordersBDaily['date'] <= x['date']]\n",
    "                                        .agg({'date' : 'max', \n",
    "                                              'ordersPerDateB' : 'sum',\n",
    "                                              'revenuePerDateB' : 'sum'}), axis=1).sort_values(by=['date'])\n",
    "ordersBCummulative.columns = ['date', 'ordersCummulativeB', 'revenueCummulativeB']\n",
    "\n",
    "# объединяем получившиеся таблицы в одну общую\n",
    "data = ordersADaily.merge(ordersBDaily, left_on='date', right_on='date', how='left')\\\n",
    ".merge(ordersACummulative, on='date', how='left')\\\n",
    ".merge(ordersBCummulative, on='date', how='left')\\\n",
    ".merge(visitorsADaily, on='date', how='left')\\\n",
    ".merge(visitorsBDaily, on='date', how='left')\\\n",
    ".merge(visitorsACummulative, on='date', how='left')\\\n",
    ".merge(visitorsBCummulative, on='date', how='left')\n",
    "\n",
    "data.head(5)"
   ]
  },
  {
   "cell_type": "markdown",
   "metadata": {},
   "source": [
    "Таблица готова, теперь перейдем к изучению статистической значимости на \"сырых\" данных. \n",
    "\n",
    "Для проверки всех гипотез критический уровень статистической значимости принимается 0.05.\n",
    "\n",
    "Создадим функцию, которая бы считала `p-value` и средние значения."
   ]
  },
  {
   "cell_type": "code",
   "execution_count": 27,
   "metadata": {},
   "outputs": [],
   "source": [
    "def significance(value, first, second, value2, sampleB, sampleA):\n",
    "    print('Статистическая значимость', value, '(p-value): {0:.3f}'\n",
    "          .format(stats.mannwhitneyu(first, second, True, 'two-sided')[1]))\n",
    "    print('Относительный прирост', value2, ': {0:.3f}'.format(sampleB/sampleA-1))"
   ]
  },
  {
   "cell_type": "markdown",
   "metadata": {},
   "source": [
    "#### Статистическая значимость различий в конверсии по \"сырым\" данным"
   ]
  },
  {
   "cell_type": "markdown",
   "metadata": {},
   "source": [
    "Проверим следующую гипотезу:\n",
    "\n",
    "* Нулевая гипотеза: Конверсия пользователей в группе А и В статистически не отличается;\n",
    "* Альтернативная гипотеза: Конверсия пользователей в группе А и В различается."
   ]
  },
  {
   "cell_type": "code",
   "execution_count": 28,
   "metadata": {},
   "outputs": [
    {
     "name": "stdout",
     "output_type": "stream",
     "text": [
      "Статистическая значимость различия конверсии (p-value): 0.017\n",
      "Относительный прирост в конверсии между группами : 0.138\n"
     ]
    }
   ],
   "source": [
    "# выделим группу А с пользователями, которые заказывали хотя бы 1 раз, и количеством совершённых заказов\n",
    "ordersByUsersA = orders[orders['group']=='A'].groupby('visitorId', as_index=False).agg({'transactionId': pd.Series.nunique})\n",
    "ordersByUsersA.columns = ['visitorId', 'orders']\n",
    "\n",
    "# выделим группу В с пользователями, которые заказывали хотя бы 1 раз, и количеством совершённых заказов\n",
    "ordersByUsersB = orders[orders['group']=='B'].groupby('visitorId', as_index=False).agg({'transactionId': pd.Series.nunique})\n",
    "ordersByUsersB.columns = ['visitorId', 'orders']\n",
    "\n",
    "# создадим выборку группы А, где пользователям будет соответствовать количество заказов (0 - для пользователей без заказов)\n",
    "sampleA = pd.concat([ordersByUsersA['orders'],\n",
    "                     pd.Series(0,index=np.arange(data['visitorsPerDateA']\n",
    "                                                 .sum()-len(ordersByUsersA['orders'])), name='orders')], axis=0)\n",
    "# создадим аналогичную выборку для группы В\n",
    "sampleB = pd.concat([ordersByUsersB['orders'],\n",
    "                     pd.Series(0,index=np.arange(data['visitorsPerDateB']\n",
    "                                                 .sum()-len(ordersByUsersB['orders'])), name='orders')], axis=0)\n",
    "\n",
    "# применим функцию для подсчета конверсии и относительного прироста\n",
    "significance('различия конверсии', sampleA, sampleB,\n",
    "            'в конверсии между группами', (data['ordersPerDateB'].sum()/data['visitorsPerDateB'].sum()), \n",
    "             (data['ordersPerDateA'].sum()/data['visitorsPerDateA'].sum()))"
   ]
  },
  {
   "cell_type": "markdown",
   "metadata": {},
   "source": [
    "`P-value` меньше 0.05, поэтому нулевую гипотезу отвергаем. Сырые данные показывают, что в конверсии между группами есть довольно значимые различия. Относительный прирост конверсии групп `B` по отношению к группе `A` - 13,8%"
   ]
  },
  {
   "cell_type": "markdown",
   "metadata": {},
   "source": [
    "#### Статистическая значимость различий в среднем чеке заказа по \"сырым\" данным"
   ]
  },
  {
   "cell_type": "markdown",
   "metadata": {},
   "source": [
    "Перейдем к проверке гипотезы о среднем чеке:\n",
    "\n",
    "* Нулевая гипотеза: Средний чек заказа пользователей в группе А и В статистически не отличается;\n",
    "* Альтернативная гипотеза: Средний чек заказа пользователей в группе А и В различается."
   ]
  },
  {
   "cell_type": "code",
   "execution_count": 29,
   "metadata": {},
   "outputs": [
    {
     "name": "stdout",
     "output_type": "stream",
     "text": [
      "Статистическая значимость средних чеков между группами (p-value): 0.729\n",
      "Относительный прирост среднего чека группы B : 0.259\n"
     ]
    }
   ],
   "source": [
    "significance('средних чеков между группами', orders[orders['group']=='A']['revenue'], orders[orders['group']=='B']['revenue'],\n",
    "            'среднего чека группы B', orders[orders['group']=='B']['revenue'].mean(), \n",
    "             orders[orders['group']=='A']['revenue'].mean())"
   ]
  },
  {
   "cell_type": "markdown",
   "metadata": {},
   "source": [
    "Значение `p-value` значительно больше 0.05, значит не можем отвергнуть нулевую гипотезу. Т.е. нет оснований считать, что средние чеки у двух групп имеют различия. При этом, средний чек группы `B` значительно выше - на 26%, чем средний чек группы `A`. Видимо, сказываются аномалии в данных.\n",
    "\n",
    "Перейдем к проверке гипотез, но уже по очищенным данным."
   ]
  },
  {
   "cell_type": "markdown",
   "metadata": {},
   "source": [
    "#### Статистическая значимость различий в конверсии по \"очищенным\" данным"
   ]
  },
  {
   "cell_type": "markdown",
   "metadata": {},
   "source": [
    "Для начала очистим данные от выбросов. Ими являются пользователи, у которых больше 2 заказов и на сумму больше 30 тыс."
   ]
  },
  {
   "cell_type": "code",
   "execution_count": 30,
   "metadata": {},
   "outputs": [
    {
     "data": {
      "text/plain": [
       "(68,)"
      ]
     },
     "execution_count": 30,
     "metadata": {},
     "output_type": "execute_result"
    }
   ],
   "source": [
    "usersWithManyOrders = pd.concat([ordersByUsersA[ordersByUsersA['orders'] > 2]['visitorId'], \n",
    "                                 ordersByUsersB[ordersByUsersB['orders'] > 2]['visitorId']], axis = 0)\n",
    "usersWithExpensiveOrders = orders[orders['revenue'] > 30000]['visitorId']\n",
    "abnormalUsers = pd.concat([usersWithManyOrders, usersWithExpensiveOrders], axis = 0).drop_duplicates().sort_values()\n",
    "abnormalUsers.shape"
   ]
  },
  {
   "cell_type": "markdown",
   "metadata": {},
   "source": [
    "Пользователей с аномальными значениями оказалось 68.\n",
    "\n",
    "Теперь аналогичным образом сформируем две группы пользователей, но уже с очищенными данными."
   ]
  },
  {
   "cell_type": "code",
   "execution_count": 31,
   "metadata": {},
   "outputs": [],
   "source": [
    "sampleAFiltered = pd.concat([ordersByUsersA[np.logical_not(ordersByUsersA['visitorId'].isin(abnormalUsers))]['orders'],\n",
    "                             pd.Series(0, index=np.arange(data['visitorsPerDateA'].sum() - len(ordersByUsersA['orders'])),\n",
    "                                       name='orders')],axis=0)\n",
    "\n",
    "sampleBFiltered = pd.concat([ordersByUsersB[np.logical_not(ordersByUsersB['visitorId'].isin(abnormalUsers))]['orders'],\n",
    "                             pd.Series(0, index=np.arange(data['visitorsPerDateB'].sum() - len(ordersByUsersB['orders'])),\n",
    "                                       name='orders')],axis=0)"
   ]
  },
  {
   "cell_type": "markdown",
   "metadata": {},
   "source": [
    "Снова проверим гипотезу о конверсии:\n",
    "\n",
    "* Нулевая гипотеза: Конверсия пользователей в группе А и В статистически не отличается;\n",
    "* Альтернативная гипотеза: Конверсия пользователей в группе А и В различается."
   ]
  },
  {
   "cell_type": "code",
   "execution_count": 32,
   "metadata": {},
   "outputs": [
    {
     "name": "stdout",
     "output_type": "stream",
     "text": [
      "Статистическая значимость различия конверсии (p-value): 0.013\n",
      "Относительный прирост в конверсии между группами : 0.172\n"
     ]
    }
   ],
   "source": [
    "significance('различия конверсии', sampleAFiltered, sampleBFiltered,\n",
    "            'в конверсии между группами', sampleBFiltered.mean(), sampleAFiltered.mean())"
   ]
  },
  {
   "cell_type": "markdown",
   "metadata": {},
   "source": [
    "`P-value` также меньше критического значения, как и в случае с \"сырыми\" данными. Значит есть основания отвергать нулевую гипотезу. \n",
    "\n",
    "Прирост стал немного больше - 17,2% в очищенных данных против 13,8% в сырых."
   ]
  },
  {
   "cell_type": "markdown",
   "metadata": {},
   "source": [
    "#### Статистическая значимость различий в среднем чеке по \"очищенным\" данным"
   ]
  },
  {
   "cell_type": "markdown",
   "metadata": {},
   "source": [
    "Теперь очередь протестировать гипотезу о среднем чеке на данных без аномалий:\n",
    "\n",
    "* Нулевая гипотеза: Средний чек заказа пользователей в группе А и В статистически не отличается;\n",
    "* Альтернативная гипотеза: Средний чек заказа пользователей в группе А и В различается."
   ]
  },
  {
   "cell_type": "code",
   "execution_count": 33,
   "metadata": {},
   "outputs": [
    {
     "name": "stdout",
     "output_type": "stream",
     "text": [
      "Статистическая значимость средних чеков между группами (p-value): 0.720\n",
      "Относительный прирост среднего чека группы B : -0.023\n"
     ]
    }
   ],
   "source": [
    "significance('средних чеков между группами', orders[np.logical_and(orders['group']=='A',\n",
    "                                                       np.logical_not(orders['visitorId'].isin(abnormalUsers)))]['revenue'],\n",
    "                                 orders[np.logical_and(orders['group']=='B',\n",
    "                                                       np.logical_not(orders['visitorId'].isin(abnormalUsers)))]['revenue'],\n",
    "            'среднего чека группы B', orders[np.logical_and(orders['group']=='B',\n",
    "                                    np.logical_not(orders['visitorId'].isin(abnormalUsers)))]['revenue'].mean(), \n",
    "             orders[np.logical_and(orders['group']=='A',\n",
    "                                    np.logical_not(orders['visitorId'].isin(abnormalUsers)))]['revenue'].mean().mean())"
   ]
  },
  {
   "cell_type": "markdown",
   "metadata": {},
   "source": [
    "Значение `p-value` по-прежнему значительно больше 0.05, значит снова не можем отвергнуть нулевую гипотезу. Т.е. нет оснований считать, что средние чеки у двух групп имеют различия. \n",
    "При этом, средний чек группы `B` стал меньше среднего чека группы `A`. Теперь разница между ними составляет 2% в пользу чека группы `A`.\n",
    "\n",
    "Получается, что на средний чек сильно влияли аномально большие заказы."
   ]
  },
  {
   "cell_type": "markdown",
   "metadata": {},
   "source": [
    "**Вывод**\n",
    "\n",
    "Проведя проверку гипотез по конверсии и по среднему чеку на \"сырых\" и на \"очищенных\" данных, можно сделать следующие выводы:\n",
    "\n",
    "* Есть статистически значимое различие по конверсии между группами как по сырым данным, так и после фильтрации аномалий;\n",
    "* Относительный прирост конверсии в сырых данных ниже, чем у данных с удаленными аномалиями;\n",
    "* Нет статистически значимого различия по среднему чеку между группами с \"сырыми\" и с \"очищенными\" данными;\n",
    "* После удаления аномалий прирост в среднем чеке сильно изменился: в \"сырых\" данных прирост на стороне группы `B`, а в \"очищенных\" - у группы `A`."
   ]
  },
  {
   "cell_type": "markdown",
   "metadata": {},
   "source": [
    "### Выводы из A/B-теста"
   ]
  },
  {
   "cell_type": "markdown",
   "metadata": {},
   "source": [
    "После обработки всех результатов проведенного A/B-теста, можно сделать следующие выводы:\n",
    "\n",
    "* Есть статистически значимое различие по конверсии между группами как по сырым данным, так и после фильтрации аномалий;\n",
    "* Нет статистически значимого различия по среднему чеку между группами с \"сырыми\" и с \"очищенными\" данными;\n",
    "* График различия конверсии между группами сообщает, что результаты группы B лучше группы A: наблюдается рост и значение колеблется вокруг 14%, но все еще не зафиксировалось;\n",
    "* График различия среднего чека часто меняется: на его основе удалось выявить выбросы. Стоит отметить, что к концу эксперимента колебания графика заметно уменьшились и есть тенденция к фиксации.\n",
    "\n",
    "Исходя из выводов, указанных выше, тест следует продолжить, чтобы посмотреть, как поведут себя конверсия и средний чек. У обоих этих значений заметна тенденция к закреплению результата. Кроме того, не была выявлена статистическая разница между средними чеками. Возможно, она и не будет выявлена в дальнейшем эксперименте, но стоит это проверить."
   ]
  }
 ],
 "metadata": {
  "ExecuteTimeLog": [
   {
    "duration": 1371,
    "start_time": "2021-06-13T09:37:35.266Z"
   },
   {
    "duration": 32,
    "start_time": "2021-06-13T09:37:36.640Z"
   },
   {
    "duration": 11,
    "start_time": "2021-06-13T09:37:36.675Z"
   },
   {
    "duration": 16,
    "start_time": "2021-06-13T09:37:36.700Z"
   },
   {
    "duration": 16,
    "start_time": "2021-06-13T09:37:36.718Z"
   },
   {
    "duration": 50,
    "start_time": "2021-06-13T09:37:36.737Z"
   },
   {
    "duration": 11,
    "start_time": "2021-06-13T09:37:36.790Z"
   },
   {
    "duration": 25,
    "start_time": "2021-06-13T09:37:36.805Z"
   },
   {
    "duration": 9,
    "start_time": "2021-06-13T09:37:36.834Z"
   },
   {
    "duration": 11,
    "start_time": "2021-06-13T09:37:36.846Z"
   },
   {
    "duration": 47,
    "start_time": "2021-06-13T09:37:36.859Z"
   },
   {
    "duration": 8,
    "start_time": "2021-06-13T09:37:36.909Z"
   },
   {
    "duration": 10,
    "start_time": "2021-06-13T09:37:36.920Z"
   },
   {
    "duration": 8,
    "start_time": "2021-06-13T09:37:36.933Z"
   },
   {
    "duration": 623,
    "start_time": "2021-06-13T09:37:36.943Z"
   },
   {
    "duration": 501,
    "start_time": "2021-06-13T09:37:37.569Z"
   },
   {
    "duration": 485,
    "start_time": "2021-06-13T09:37:38.073Z"
   },
   {
    "duration": 571,
    "start_time": "2021-06-13T09:37:38.561Z"
   },
   {
    "duration": 437,
    "start_time": "2021-06-13T09:37:39.136Z"
   },
   {
    "duration": 527,
    "start_time": "2021-06-13T09:37:39.576Z"
   },
   {
    "duration": 565,
    "start_time": "2021-06-13T09:37:40.106Z"
   },
   {
    "duration": 8,
    "start_time": "2021-06-13T09:37:40.674Z"
   },
   {
    "duration": 411,
    "start_time": "2021-06-13T09:37:40.701Z"
   },
   {
    "duration": 395,
    "start_time": "2021-06-13T09:37:41.115Z"
   },
   {
    "duration": 7,
    "start_time": "2021-06-13T09:37:41.513Z"
   },
   {
    "duration": 586,
    "start_time": "2021-06-13T09:37:41.523Z"
   },
   {
    "duration": 437,
    "start_time": "2021-06-13T09:37:42.112Z"
   },
   {
    "duration": 14,
    "start_time": "2021-06-13T09:37:42.602Z"
   },
   {
    "duration": 18,
    "start_time": "2021-06-13T09:37:42.618Z"
   },
   {
    "duration": 68,
    "start_time": "2021-06-13T09:37:42.638Z"
   },
   {
    "duration": 12,
    "start_time": "2021-06-13T09:37:42.709Z"
   },
   {
    "duration": 24,
    "start_time": "2021-06-13T09:37:42.724Z"
   },
   {
    "duration": 14,
    "start_time": "2021-06-13T09:37:51.749Z"
   },
   {
    "duration": 1277,
    "start_time": "2021-06-13T09:45:50.736Z"
   },
   {
    "duration": 32,
    "start_time": "2021-06-13T09:45:52.015Z"
   },
   {
    "duration": 8,
    "start_time": "2021-06-13T09:45:52.051Z"
   },
   {
    "duration": 18,
    "start_time": "2021-06-13T09:45:52.062Z"
   },
   {
    "duration": 16,
    "start_time": "2021-06-13T09:45:52.101Z"
   },
   {
    "duration": 47,
    "start_time": "2021-06-13T09:45:52.120Z"
   },
   {
    "duration": 8,
    "start_time": "2021-06-13T09:45:52.169Z"
   },
   {
    "duration": 29,
    "start_time": "2021-06-13T09:45:52.181Z"
   },
   {
    "duration": 9,
    "start_time": "2021-06-13T09:45:52.213Z"
   },
   {
    "duration": 11,
    "start_time": "2021-06-13T09:45:52.224Z"
   },
   {
    "duration": 25,
    "start_time": "2021-06-13T09:45:52.237Z"
   },
   {
    "duration": 12,
    "start_time": "2021-06-13T09:45:52.265Z"
   },
   {
    "duration": 12,
    "start_time": "2021-06-13T09:45:52.301Z"
   },
   {
    "duration": 10,
    "start_time": "2021-06-13T09:45:52.315Z"
   },
   {
    "duration": 614,
    "start_time": "2021-06-13T09:45:52.328Z"
   },
   {
    "duration": 517,
    "start_time": "2021-06-13T09:45:52.944Z"
   },
   {
    "duration": 800,
    "start_time": "2021-06-13T09:45:53.463Z"
   },
   {
    "duration": 672,
    "start_time": "2021-06-13T09:45:54.265Z"
   },
   {
    "duration": 413,
    "start_time": "2021-06-13T09:45:54.940Z"
   },
   {
    "duration": 630,
    "start_time": "2021-06-13T09:45:55.356Z"
   },
   {
    "duration": 740,
    "start_time": "2021-06-13T09:45:55.988Z"
   },
   {
    "duration": 6,
    "start_time": "2021-06-13T09:45:56.731Z"
   },
   {
    "duration": 576,
    "start_time": "2021-06-13T09:45:56.741Z"
   },
   {
    "duration": 374,
    "start_time": "2021-06-13T09:45:57.319Z"
   },
   {
    "duration": 6,
    "start_time": "2021-06-13T09:45:57.700Z"
   },
   {
    "duration": 557,
    "start_time": "2021-06-13T09:45:57.708Z"
   },
   {
    "duration": 233,
    "start_time": "2021-06-13T09:45:58.267Z"
   },
   {
    "duration": 13,
    "start_time": "2021-06-13T09:45:58.502Z"
   },
   {
    "duration": 12,
    "start_time": "2021-06-13T09:45:58.518Z"
   },
   {
    "duration": 13,
    "start_time": "2021-06-13T09:45:58.532Z"
   },
   {
    "duration": 11,
    "start_time": "2021-06-13T09:45:58.548Z"
   },
   {
    "duration": 57,
    "start_time": "2021-06-13T09:45:58.562Z"
   },
   {
    "duration": 526,
    "start_time": "2021-06-13T10:17:08.461Z"
   },
   {
    "duration": 583,
    "start_time": "2021-06-13T10:18:42.636Z"
   },
   {
    "duration": 563,
    "start_time": "2021-06-13T10:20:16.370Z"
   },
   {
    "duration": 4,
    "start_time": "2021-06-13T10:35:56.200Z"
   },
   {
    "duration": 468,
    "start_time": "2021-06-13T10:38:52.946Z"
   },
   {
    "duration": 1006,
    "start_time": "2021-06-13T10:39:29.437Z"
   },
   {
    "duration": 527,
    "start_time": "2021-06-13T10:41:44.231Z"
   },
   {
    "duration": 5,
    "start_time": "2021-06-13T10:42:00.339Z"
   },
   {
    "duration": 561,
    "start_time": "2021-06-13T10:42:03.138Z"
   },
   {
    "duration": 4,
    "start_time": "2021-06-13T10:42:53.251Z"
   },
   {
    "duration": 584,
    "start_time": "2021-06-13T10:43:03.045Z"
   },
   {
    "duration": 4,
    "start_time": "2021-06-13T10:43:51.599Z"
   },
   {
    "duration": 4,
    "start_time": "2021-06-13T10:43:56.594Z"
   },
   {
    "duration": 506,
    "start_time": "2021-06-13T10:44:06.060Z"
   },
   {
    "duration": 3,
    "start_time": "2021-06-13T10:48:02.071Z"
   },
   {
    "duration": 5,
    "start_time": "2021-06-13T10:48:10.449Z"
   },
   {
    "duration": 6,
    "start_time": "2021-06-13T10:48:16.018Z"
   },
   {
    "duration": 1300,
    "start_time": "2021-06-13T10:48:35.357Z"
   },
   {
    "duration": 32,
    "start_time": "2021-06-13T10:48:36.660Z"
   },
   {
    "duration": 10,
    "start_time": "2021-06-13T10:48:36.700Z"
   },
   {
    "duration": 22,
    "start_time": "2021-06-13T10:48:36.714Z"
   },
   {
    "duration": 20,
    "start_time": "2021-06-13T10:48:36.739Z"
   },
   {
    "duration": 49,
    "start_time": "2021-06-13T10:48:36.800Z"
   },
   {
    "duration": 9,
    "start_time": "2021-06-13T10:48:36.851Z"
   },
   {
    "duration": 29,
    "start_time": "2021-06-13T10:48:36.863Z"
   },
   {
    "duration": 8,
    "start_time": "2021-06-13T10:48:36.899Z"
   },
   {
    "duration": 11,
    "start_time": "2021-06-13T10:48:36.911Z"
   },
   {
    "duration": 24,
    "start_time": "2021-06-13T10:48:36.925Z"
   },
   {
    "duration": 9,
    "start_time": "2021-06-13T10:48:36.952Z"
   },
   {
    "duration": 41,
    "start_time": "2021-06-13T10:48:36.963Z"
   },
   {
    "duration": 10,
    "start_time": "2021-06-13T10:48:37.006Z"
   },
   {
    "duration": 631,
    "start_time": "2021-06-13T10:48:37.019Z"
   },
   {
    "duration": 663,
    "start_time": "2021-06-13T10:48:37.653Z"
   },
   {
    "duration": 698,
    "start_time": "2021-06-13T10:48:38.319Z"
   },
   {
    "duration": 557,
    "start_time": "2021-06-13T10:48:39.020Z"
   },
   {
    "duration": 496,
    "start_time": "2021-06-13T10:48:39.580Z"
   },
   {
    "duration": 547,
    "start_time": "2021-06-13T10:48:40.079Z"
   },
   {
    "duration": 663,
    "start_time": "2021-06-13T10:48:40.629Z"
   },
   {
    "duration": 8,
    "start_time": "2021-06-13T10:48:41.301Z"
   },
   {
    "duration": 443,
    "start_time": "2021-06-13T10:48:41.314Z"
   },
   {
    "duration": 530,
    "start_time": "2021-06-13T10:48:41.760Z"
   },
   {
    "duration": 13,
    "start_time": "2021-06-13T10:48:42.293Z"
   },
   {
    "duration": 735,
    "start_time": "2021-06-13T10:48:42.308Z"
   },
   {
    "duration": 4,
    "start_time": "2021-06-13T10:48:43.045Z"
   },
   {
    "duration": 383,
    "start_time": "2021-06-13T10:48:43.052Z"
   },
   {
    "duration": -832,
    "start_time": "2021-06-13T10:48:44.270Z"
   },
   {
    "duration": -837,
    "start_time": "2021-06-13T10:48:44.276Z"
   },
   {
    "duration": -841,
    "start_time": "2021-06-13T10:48:44.282Z"
   },
   {
    "duration": -843,
    "start_time": "2021-06-13T10:48:44.286Z"
   },
   {
    "duration": -847,
    "start_time": "2021-06-13T10:48:44.291Z"
   },
   {
    "duration": -852,
    "start_time": "2021-06-13T10:48:44.297Z"
   },
   {
    "duration": -855,
    "start_time": "2021-06-13T10:48:44.301Z"
   },
   {
    "duration": -857,
    "start_time": "2021-06-13T10:48:44.305Z"
   },
   {
    "duration": 259,
    "start_time": "2021-06-13T10:49:06.608Z"
   },
   {
    "duration": 465,
    "start_time": "2021-06-13T10:49:18.468Z"
   },
   {
    "duration": 4,
    "start_time": "2021-06-13T10:49:45.436Z"
   },
   {
    "duration": 505,
    "start_time": "2021-06-13T10:49:47.580Z"
   },
   {
    "duration": 508,
    "start_time": "2021-06-13T10:49:59.549Z"
   },
   {
    "duration": 1538,
    "start_time": "2021-06-13T10:50:26.698Z"
   },
   {
    "duration": 77,
    "start_time": "2021-06-13T10:50:28.238Z"
   },
   {
    "duration": 11,
    "start_time": "2021-06-13T10:50:28.318Z"
   },
   {
    "duration": 71,
    "start_time": "2021-06-13T10:50:28.331Z"
   },
   {
    "duration": 16,
    "start_time": "2021-06-13T10:50:28.405Z"
   },
   {
    "duration": 88,
    "start_time": "2021-06-13T10:50:28.424Z"
   },
   {
    "duration": 9,
    "start_time": "2021-06-13T10:50:28.514Z"
   },
   {
    "duration": 77,
    "start_time": "2021-06-13T10:50:28.526Z"
   },
   {
    "duration": 10,
    "start_time": "2021-06-13T10:50:28.606Z"
   },
   {
    "duration": 12,
    "start_time": "2021-06-13T10:50:28.619Z"
   },
   {
    "duration": 74,
    "start_time": "2021-06-13T10:50:28.633Z"
   },
   {
    "duration": 8,
    "start_time": "2021-06-13T10:50:28.710Z"
   },
   {
    "duration": 17,
    "start_time": "2021-06-13T10:50:28.721Z"
   },
   {
    "duration": 63,
    "start_time": "2021-06-13T10:50:28.741Z"
   },
   {
    "duration": 595,
    "start_time": "2021-06-13T10:50:28.807Z"
   },
   {
    "duration": 516,
    "start_time": "2021-06-13T10:50:29.404Z"
   },
   {
    "duration": 468,
    "start_time": "2021-06-13T10:50:29.923Z"
   },
   {
    "duration": 575,
    "start_time": "2021-06-13T10:50:30.394Z"
   },
   {
    "duration": 442,
    "start_time": "2021-06-13T10:50:30.972Z"
   },
   {
    "duration": 515,
    "start_time": "2021-06-13T10:50:31.416Z"
   },
   {
    "duration": 547,
    "start_time": "2021-06-13T10:50:31.934Z"
   },
   {
    "duration": 8,
    "start_time": "2021-06-13T10:50:32.483Z"
   },
   {
    "duration": 403,
    "start_time": "2021-06-13T10:50:32.495Z"
   },
   {
    "duration": 389,
    "start_time": "2021-06-13T10:50:32.901Z"
   },
   {
    "duration": 12,
    "start_time": "2021-06-13T10:50:33.292Z"
   },
   {
    "duration": 536,
    "start_time": "2021-06-13T10:50:33.306Z"
   },
   {
    "duration": 4,
    "start_time": "2021-06-13T10:50:33.845Z"
   },
   {
    "duration": 215,
    "start_time": "2021-06-13T10:50:33.851Z"
   },
   {
    "duration": 7,
    "start_time": "2021-06-13T10:50:34.068Z"
   },
   {
    "duration": 389,
    "start_time": "2021-06-13T10:50:34.077Z"
   },
   {
    "duration": -836,
    "start_time": "2021-06-13T10:50:35.304Z"
   },
   {
    "duration": -842,
    "start_time": "2021-06-13T10:50:35.312Z"
   },
   {
    "duration": -849,
    "start_time": "2021-06-13T10:50:35.320Z"
   },
   {
    "duration": -854,
    "start_time": "2021-06-13T10:50:35.326Z"
   },
   {
    "duration": -859,
    "start_time": "2021-06-13T10:50:35.333Z"
   },
   {
    "duration": -864,
    "start_time": "2021-06-13T10:50:35.339Z"
   },
   {
    "duration": 281,
    "start_time": "2021-06-13T10:53:20.765Z"
   },
   {
    "duration": 5,
    "start_time": "2021-06-13T10:53:25.856Z"
   },
   {
    "duration": 10,
    "start_time": "2021-06-13T10:53:29.137Z"
   },
   {
    "duration": 15,
    "start_time": "2021-06-13T11:00:36.521Z"
   },
   {
    "duration": 15,
    "start_time": "2021-06-13T11:01:59.401Z"
   },
   {
    "duration": 15,
    "start_time": "2021-06-13T11:02:44.726Z"
   },
   {
    "duration": 13,
    "start_time": "2021-06-13T11:02:51.326Z"
   },
   {
    "duration": 11,
    "start_time": "2021-06-13T11:02:57.263Z"
   },
   {
    "duration": 12,
    "start_time": "2021-06-13T11:03:54.069Z"
   },
   {
    "duration": 19,
    "start_time": "2021-06-13T11:04:25.928Z"
   },
   {
    "duration": 88,
    "start_time": "2021-06-13T11:06:13.570Z"
   },
   {
    "duration": 21,
    "start_time": "2021-06-13T11:06:51.756Z"
   },
   {
    "duration": 1328,
    "start_time": "2021-06-13T11:09:36.124Z"
   },
   {
    "duration": 32,
    "start_time": "2021-06-13T11:09:37.455Z"
   },
   {
    "duration": 14,
    "start_time": "2021-06-13T11:09:37.490Z"
   },
   {
    "duration": 28,
    "start_time": "2021-06-13T11:09:37.506Z"
   },
   {
    "duration": 18,
    "start_time": "2021-06-13T11:09:37.536Z"
   },
   {
    "duration": 52,
    "start_time": "2021-06-13T11:09:37.557Z"
   },
   {
    "duration": 8,
    "start_time": "2021-06-13T11:09:37.612Z"
   },
   {
    "duration": 27,
    "start_time": "2021-06-13T11:09:37.623Z"
   },
   {
    "duration": 8,
    "start_time": "2021-06-13T11:09:37.654Z"
   },
   {
    "duration": 44,
    "start_time": "2021-06-13T11:09:37.666Z"
   },
   {
    "duration": 25,
    "start_time": "2021-06-13T11:09:37.713Z"
   },
   {
    "duration": 8,
    "start_time": "2021-06-13T11:09:37.741Z"
   },
   {
    "duration": 13,
    "start_time": "2021-06-13T11:09:37.751Z"
   },
   {
    "duration": 36,
    "start_time": "2021-06-13T11:09:37.766Z"
   },
   {
    "duration": 597,
    "start_time": "2021-06-13T11:09:37.805Z"
   },
   {
    "duration": 478,
    "start_time": "2021-06-13T11:09:38.404Z"
   },
   {
    "duration": 477,
    "start_time": "2021-06-13T11:09:38.885Z"
   },
   {
    "duration": 594,
    "start_time": "2021-06-13T11:09:39.365Z"
   },
   {
    "duration": 429,
    "start_time": "2021-06-13T11:09:39.962Z"
   },
   {
    "duration": 537,
    "start_time": "2021-06-13T11:09:40.394Z"
   },
   {
    "duration": 569,
    "start_time": "2021-06-13T11:09:40.934Z"
   },
   {
    "duration": 9,
    "start_time": "2021-06-13T11:09:41.505Z"
   },
   {
    "duration": 382,
    "start_time": "2021-06-13T11:09:41.516Z"
   },
   {
    "duration": 388,
    "start_time": "2021-06-13T11:09:41.901Z"
   },
   {
    "duration": 12,
    "start_time": "2021-06-13T11:09:42.291Z"
   },
   {
    "duration": 532,
    "start_time": "2021-06-13T11:09:42.306Z"
   },
   {
    "duration": 5,
    "start_time": "2021-06-13T11:09:42.844Z"
   },
   {
    "duration": 268,
    "start_time": "2021-06-13T11:09:42.853Z"
   },
   {
    "duration": 13,
    "start_time": "2021-06-13T11:09:43.123Z"
   },
   {
    "duration": 32,
    "start_time": "2021-06-13T11:09:43.139Z"
   },
   {
    "duration": 17,
    "start_time": "2021-06-13T11:09:43.173Z"
   },
   {
    "duration": 16,
    "start_time": "2021-06-13T11:09:43.193Z"
   },
   {
    "duration": 27,
    "start_time": "2021-06-13T11:09:43.212Z"
   }
  ],
  "kernelspec": {
   "display_name": "Python 3",
   "language": "python",
   "name": "python3"
  },
  "language_info": {
   "codemirror_mode": {
    "name": "ipython",
    "version": 3
   },
   "file_extension": ".py",
   "mimetype": "text/x-python",
   "name": "python",
   "nbconvert_exporter": "python",
   "pygments_lexer": "ipython3",
   "version": "3.7.8"
  },
  "toc": {
   "base_numbering": 1,
   "nav_menu": {
    "height": "263px",
    "width": "280px"
   },
   "number_sections": false,
   "sideBar": true,
   "skip_h1_title": true,
   "title_cell": "Table of Contents",
   "title_sidebar": "Contents",
   "toc_cell": false,
   "toc_position": {
    "height": "calc(100% - 180px)",
    "left": "10px",
    "top": "150px",
    "width": "289.587px"
   },
   "toc_section_display": true,
   "toc_window_display": true
  }
 },
 "nbformat": 4,
 "nbformat_minor": 2
}
